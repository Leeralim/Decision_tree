{
  "nbformat": 4,
  "nbformat_minor": 0,
  "metadata": {
    "colab": {
      "name": "Decision_tree.ipynb",
      "provenance": []
    },
    "kernelspec": {
      "name": "python3",
      "display_name": "Python 3"
    },
    "language_info": {
      "name": "python"
    }
  },
  "cells": [
    {
      "cell_type": "markdown",
      "source": [
        " Цель состоит в том, чтобы ответить на вопрос: есть ли у пациента диабет, основываясь на определенных диагностических измерениях, включенных в набор данных, который получен из исходной базы данных наложением нескольких ограничений. В частности, в рассматриваемых в задании данных, все пациенты — женщины не менее 21 года индийского происхождения Пима.\n",
        "\n",
        "Набор данных состоит из таких предикторов, как количество беременностей у пациентки, индекс массы тела, уровень инсулина, возраст и так далее. Отклик принимает два значение — больна (1) диабетом или нет (0)."
      ],
      "metadata": {
        "id": "rDjuFwSoNfSU"
      }
    },
    {
      "cell_type": "markdown",
      "source": [
        "Импортируем нужные нам библиотеки"
      ],
      "metadata": {
        "id": "NdCvnSbCWUqb"
      }
    },
    {
      "cell_type": "code",
      "execution_count": 14,
      "metadata": {
        "id": "Pdliwv3xM_g4"
      },
      "outputs": [],
      "source": [
        "import pandas as pd\n",
        "import matplotlib\n",
        "import numpy as np\n",
        "import matplotlib.pyplot as plt\n",
        "from sklearn.tree import DecisionTreeClassifier\n",
        "from sklearn.tree import export_graphviz\n",
        "import graphviz\n",
        "from sklearn.metrics import accuracy_score\n",
        "from sklearn.metrics import f1_score\n",
        "%matplotlib inline"
      ]
    },
    {
      "cell_type": "code",
      "source": [
        "df = pd.read_csv('diabetes.csv')\n",
        "df"
      ],
      "metadata": {
        "colab": {
          "base_uri": "https://localhost:8080/",
          "height": 424
        },
        "id": "tMwY8RZwNkYf",
        "outputId": "34fdd139-f8ae-499c-ae30-2b7b75e0add0"
      },
      "execution_count": 39,
      "outputs": [
        {
          "output_type": "execute_result",
          "data": {
            "text/plain": [
              "     Pregnancies  Glucose  BloodPressure  SkinThickness  Insulin   BMI  \\\n",
              "0              6      148             72             35        0  33.6   \n",
              "1              1       85             66             29        0  26.6   \n",
              "2              8      183             64              0        0  23.3   \n",
              "3              1       89             66             23       94  28.1   \n",
              "4              0      137             40             35      168  43.1   \n",
              "..           ...      ...            ...            ...      ...   ...   \n",
              "763           10      101             76             48      180  32.9   \n",
              "764            2      122             70             27        0  36.8   \n",
              "765            5      121             72             23      112  26.2   \n",
              "766            1      126             60              0        0  30.1   \n",
              "767            1       93             70             31        0  30.4   \n",
              "\n",
              "     DiabetesPedigreeFunction  Age  Outcome  \n",
              "0                       0.627   50        1  \n",
              "1                       0.351   31        0  \n",
              "2                       0.672   32        1  \n",
              "3                       0.167   21        0  \n",
              "4                       2.288   33        1  \n",
              "..                        ...  ...      ...  \n",
              "763                     0.171   63        0  \n",
              "764                     0.340   27        0  \n",
              "765                     0.245   30        0  \n",
              "766                     0.349   47        1  \n",
              "767                     0.315   23        0  \n",
              "\n",
              "[768 rows x 9 columns]"
            ],
            "text/html": [
              "\n",
              "  <div id=\"df-3b300fa8-1fbe-4716-82a4-f2422231396d\">\n",
              "    <div class=\"colab-df-container\">\n",
              "      <div>\n",
              "<style scoped>\n",
              "    .dataframe tbody tr th:only-of-type {\n",
              "        vertical-align: middle;\n",
              "    }\n",
              "\n",
              "    .dataframe tbody tr th {\n",
              "        vertical-align: top;\n",
              "    }\n",
              "\n",
              "    .dataframe thead th {\n",
              "        text-align: right;\n",
              "    }\n",
              "</style>\n",
              "<table border=\"1\" class=\"dataframe\">\n",
              "  <thead>\n",
              "    <tr style=\"text-align: right;\">\n",
              "      <th></th>\n",
              "      <th>Pregnancies</th>\n",
              "      <th>Glucose</th>\n",
              "      <th>BloodPressure</th>\n",
              "      <th>SkinThickness</th>\n",
              "      <th>Insulin</th>\n",
              "      <th>BMI</th>\n",
              "      <th>DiabetesPedigreeFunction</th>\n",
              "      <th>Age</th>\n",
              "      <th>Outcome</th>\n",
              "    </tr>\n",
              "  </thead>\n",
              "  <tbody>\n",
              "    <tr>\n",
              "      <th>0</th>\n",
              "      <td>6</td>\n",
              "      <td>148</td>\n",
              "      <td>72</td>\n",
              "      <td>35</td>\n",
              "      <td>0</td>\n",
              "      <td>33.6</td>\n",
              "      <td>0.627</td>\n",
              "      <td>50</td>\n",
              "      <td>1</td>\n",
              "    </tr>\n",
              "    <tr>\n",
              "      <th>1</th>\n",
              "      <td>1</td>\n",
              "      <td>85</td>\n",
              "      <td>66</td>\n",
              "      <td>29</td>\n",
              "      <td>0</td>\n",
              "      <td>26.6</td>\n",
              "      <td>0.351</td>\n",
              "      <td>31</td>\n",
              "      <td>0</td>\n",
              "    </tr>\n",
              "    <tr>\n",
              "      <th>2</th>\n",
              "      <td>8</td>\n",
              "      <td>183</td>\n",
              "      <td>64</td>\n",
              "      <td>0</td>\n",
              "      <td>0</td>\n",
              "      <td>23.3</td>\n",
              "      <td>0.672</td>\n",
              "      <td>32</td>\n",
              "      <td>1</td>\n",
              "    </tr>\n",
              "    <tr>\n",
              "      <th>3</th>\n",
              "      <td>1</td>\n",
              "      <td>89</td>\n",
              "      <td>66</td>\n",
              "      <td>23</td>\n",
              "      <td>94</td>\n",
              "      <td>28.1</td>\n",
              "      <td>0.167</td>\n",
              "      <td>21</td>\n",
              "      <td>0</td>\n",
              "    </tr>\n",
              "    <tr>\n",
              "      <th>4</th>\n",
              "      <td>0</td>\n",
              "      <td>137</td>\n",
              "      <td>40</td>\n",
              "      <td>35</td>\n",
              "      <td>168</td>\n",
              "      <td>43.1</td>\n",
              "      <td>2.288</td>\n",
              "      <td>33</td>\n",
              "      <td>1</td>\n",
              "    </tr>\n",
              "    <tr>\n",
              "      <th>...</th>\n",
              "      <td>...</td>\n",
              "      <td>...</td>\n",
              "      <td>...</td>\n",
              "      <td>...</td>\n",
              "      <td>...</td>\n",
              "      <td>...</td>\n",
              "      <td>...</td>\n",
              "      <td>...</td>\n",
              "      <td>...</td>\n",
              "    </tr>\n",
              "    <tr>\n",
              "      <th>763</th>\n",
              "      <td>10</td>\n",
              "      <td>101</td>\n",
              "      <td>76</td>\n",
              "      <td>48</td>\n",
              "      <td>180</td>\n",
              "      <td>32.9</td>\n",
              "      <td>0.171</td>\n",
              "      <td>63</td>\n",
              "      <td>0</td>\n",
              "    </tr>\n",
              "    <tr>\n",
              "      <th>764</th>\n",
              "      <td>2</td>\n",
              "      <td>122</td>\n",
              "      <td>70</td>\n",
              "      <td>27</td>\n",
              "      <td>0</td>\n",
              "      <td>36.8</td>\n",
              "      <td>0.340</td>\n",
              "      <td>27</td>\n",
              "      <td>0</td>\n",
              "    </tr>\n",
              "    <tr>\n",
              "      <th>765</th>\n",
              "      <td>5</td>\n",
              "      <td>121</td>\n",
              "      <td>72</td>\n",
              "      <td>23</td>\n",
              "      <td>112</td>\n",
              "      <td>26.2</td>\n",
              "      <td>0.245</td>\n",
              "      <td>30</td>\n",
              "      <td>0</td>\n",
              "    </tr>\n",
              "    <tr>\n",
              "      <th>766</th>\n",
              "      <td>1</td>\n",
              "      <td>126</td>\n",
              "      <td>60</td>\n",
              "      <td>0</td>\n",
              "      <td>0</td>\n",
              "      <td>30.1</td>\n",
              "      <td>0.349</td>\n",
              "      <td>47</td>\n",
              "      <td>1</td>\n",
              "    </tr>\n",
              "    <tr>\n",
              "      <th>767</th>\n",
              "      <td>1</td>\n",
              "      <td>93</td>\n",
              "      <td>70</td>\n",
              "      <td>31</td>\n",
              "      <td>0</td>\n",
              "      <td>30.4</td>\n",
              "      <td>0.315</td>\n",
              "      <td>23</td>\n",
              "      <td>0</td>\n",
              "    </tr>\n",
              "  </tbody>\n",
              "</table>\n",
              "<p>768 rows × 9 columns</p>\n",
              "</div>\n",
              "      <button class=\"colab-df-convert\" onclick=\"convertToInteractive('df-3b300fa8-1fbe-4716-82a4-f2422231396d')\"\n",
              "              title=\"Convert this dataframe to an interactive table.\"\n",
              "              style=\"display:none;\">\n",
              "        \n",
              "  <svg xmlns=\"http://www.w3.org/2000/svg\" height=\"24px\"viewBox=\"0 0 24 24\"\n",
              "       width=\"24px\">\n",
              "    <path d=\"M0 0h24v24H0V0z\" fill=\"none\"/>\n",
              "    <path d=\"M18.56 5.44l.94 2.06.94-2.06 2.06-.94-2.06-.94-.94-2.06-.94 2.06-2.06.94zm-11 1L8.5 8.5l.94-2.06 2.06-.94-2.06-.94L8.5 2.5l-.94 2.06-2.06.94zm10 10l.94 2.06.94-2.06 2.06-.94-2.06-.94-.94-2.06-.94 2.06-2.06.94z\"/><path d=\"M17.41 7.96l-1.37-1.37c-.4-.4-.92-.59-1.43-.59-.52 0-1.04.2-1.43.59L10.3 9.45l-7.72 7.72c-.78.78-.78 2.05 0 2.83L4 21.41c.39.39.9.59 1.41.59.51 0 1.02-.2 1.41-.59l7.78-7.78 2.81-2.81c.8-.78.8-2.07 0-2.86zM5.41 20L4 18.59l7.72-7.72 1.47 1.35L5.41 20z\"/>\n",
              "  </svg>\n",
              "      </button>\n",
              "      \n",
              "  <style>\n",
              "    .colab-df-container {\n",
              "      display:flex;\n",
              "      flex-wrap:wrap;\n",
              "      gap: 12px;\n",
              "    }\n",
              "\n",
              "    .colab-df-convert {\n",
              "      background-color: #E8F0FE;\n",
              "      border: none;\n",
              "      border-radius: 50%;\n",
              "      cursor: pointer;\n",
              "      display: none;\n",
              "      fill: #1967D2;\n",
              "      height: 32px;\n",
              "      padding: 0 0 0 0;\n",
              "      width: 32px;\n",
              "    }\n",
              "\n",
              "    .colab-df-convert:hover {\n",
              "      background-color: #E2EBFA;\n",
              "      box-shadow: 0px 1px 2px rgba(60, 64, 67, 0.3), 0px 1px 3px 1px rgba(60, 64, 67, 0.15);\n",
              "      fill: #174EA6;\n",
              "    }\n",
              "\n",
              "    [theme=dark] .colab-df-convert {\n",
              "      background-color: #3B4455;\n",
              "      fill: #D2E3FC;\n",
              "    }\n",
              "\n",
              "    [theme=dark] .colab-df-convert:hover {\n",
              "      background-color: #434B5C;\n",
              "      box-shadow: 0px 1px 3px 1px rgba(0, 0, 0, 0.15);\n",
              "      filter: drop-shadow(0px 1px 2px rgba(0, 0, 0, 0.3));\n",
              "      fill: #FFFFFF;\n",
              "    }\n",
              "  </style>\n",
              "\n",
              "      <script>\n",
              "        const buttonEl =\n",
              "          document.querySelector('#df-3b300fa8-1fbe-4716-82a4-f2422231396d button.colab-df-convert');\n",
              "        buttonEl.style.display =\n",
              "          google.colab.kernel.accessAllowed ? 'block' : 'none';\n",
              "\n",
              "        async function convertToInteractive(key) {\n",
              "          const element = document.querySelector('#df-3b300fa8-1fbe-4716-82a4-f2422231396d');\n",
              "          const dataTable =\n",
              "            await google.colab.kernel.invokeFunction('convertToInteractive',\n",
              "                                                     [key], {});\n",
              "          if (!dataTable) return;\n",
              "\n",
              "          const docLinkHtml = 'Like what you see? Visit the ' +\n",
              "            '<a target=\"_blank\" href=https://colab.research.google.com/notebooks/data_table.ipynb>data table notebook</a>'\n",
              "            + ' to learn more about interactive tables.';\n",
              "          element.innerHTML = '';\n",
              "          dataTable['output_type'] = 'display_data';\n",
              "          await google.colab.output.renderOutput(dataTable, element);\n",
              "          const docLink = document.createElement('div');\n",
              "          docLink.innerHTML = docLinkHtml;\n",
              "          element.appendChild(docLink);\n",
              "        }\n",
              "      </script>\n",
              "    </div>\n",
              "  </div>\n",
              "  "
            ]
          },
          "metadata": {},
          "execution_count": 39
        }
      ]
    },
    {
      "cell_type": "markdown",
      "source": [
        "Отберем первые 690 строк"
      ],
      "metadata": {
        "id": "4_2vi1pgNx_c"
      }
    },
    {
      "cell_type": "code",
      "source": [
        "task_data = df.head(690)\n",
        "task_data"
      ],
      "metadata": {
        "colab": {
          "base_uri": "https://localhost:8080/",
          "height": 424
        },
        "id": "Tfg1HJYbN3HO",
        "outputId": "8769b37d-1ba4-4995-dc95-fb2c65f79cc4"
      },
      "execution_count": 5,
      "outputs": [
        {
          "output_type": "execute_result",
          "data": {
            "text/plain": [
              "     Pregnancies  Glucose  BloodPressure  SkinThickness  Insulin   BMI  \\\n",
              "0              6      148             72             35        0  33.6   \n",
              "1              1       85             66             29        0  26.6   \n",
              "2              8      183             64              0        0  23.3   \n",
              "3              1       89             66             23       94  28.1   \n",
              "4              0      137             40             35      168  43.1   \n",
              "..           ...      ...            ...            ...      ...   ...   \n",
              "685            2      129             74             26      205  33.2   \n",
              "686            3      130             64              0        0  23.1   \n",
              "687            1      107             50             19        0  28.3   \n",
              "688            1      140             74             26      180  24.1   \n",
              "689            1      144             82             46      180  46.1   \n",
              "\n",
              "     DiabetesPedigreeFunction  Age  Outcome  \n",
              "0                       0.627   50        1  \n",
              "1                       0.351   31        0  \n",
              "2                       0.672   32        1  \n",
              "3                       0.167   21        0  \n",
              "4                       2.288   33        1  \n",
              "..                        ...  ...      ...  \n",
              "685                     0.591   25        0  \n",
              "686                     0.314   22        0  \n",
              "687                     0.181   29        0  \n",
              "688                     0.828   23        0  \n",
              "689                     0.335   46        1  \n",
              "\n",
              "[690 rows x 9 columns]"
            ],
            "text/html": [
              "\n",
              "  <div id=\"df-c6d9c4cd-d903-4dce-9a1c-5843d3ea84b4\">\n",
              "    <div class=\"colab-df-container\">\n",
              "      <div>\n",
              "<style scoped>\n",
              "    .dataframe tbody tr th:only-of-type {\n",
              "        vertical-align: middle;\n",
              "    }\n",
              "\n",
              "    .dataframe tbody tr th {\n",
              "        vertical-align: top;\n",
              "    }\n",
              "\n",
              "    .dataframe thead th {\n",
              "        text-align: right;\n",
              "    }\n",
              "</style>\n",
              "<table border=\"1\" class=\"dataframe\">\n",
              "  <thead>\n",
              "    <tr style=\"text-align: right;\">\n",
              "      <th></th>\n",
              "      <th>Pregnancies</th>\n",
              "      <th>Glucose</th>\n",
              "      <th>BloodPressure</th>\n",
              "      <th>SkinThickness</th>\n",
              "      <th>Insulin</th>\n",
              "      <th>BMI</th>\n",
              "      <th>DiabetesPedigreeFunction</th>\n",
              "      <th>Age</th>\n",
              "      <th>Outcome</th>\n",
              "    </tr>\n",
              "  </thead>\n",
              "  <tbody>\n",
              "    <tr>\n",
              "      <th>0</th>\n",
              "      <td>6</td>\n",
              "      <td>148</td>\n",
              "      <td>72</td>\n",
              "      <td>35</td>\n",
              "      <td>0</td>\n",
              "      <td>33.6</td>\n",
              "      <td>0.627</td>\n",
              "      <td>50</td>\n",
              "      <td>1</td>\n",
              "    </tr>\n",
              "    <tr>\n",
              "      <th>1</th>\n",
              "      <td>1</td>\n",
              "      <td>85</td>\n",
              "      <td>66</td>\n",
              "      <td>29</td>\n",
              "      <td>0</td>\n",
              "      <td>26.6</td>\n",
              "      <td>0.351</td>\n",
              "      <td>31</td>\n",
              "      <td>0</td>\n",
              "    </tr>\n",
              "    <tr>\n",
              "      <th>2</th>\n",
              "      <td>8</td>\n",
              "      <td>183</td>\n",
              "      <td>64</td>\n",
              "      <td>0</td>\n",
              "      <td>0</td>\n",
              "      <td>23.3</td>\n",
              "      <td>0.672</td>\n",
              "      <td>32</td>\n",
              "      <td>1</td>\n",
              "    </tr>\n",
              "    <tr>\n",
              "      <th>3</th>\n",
              "      <td>1</td>\n",
              "      <td>89</td>\n",
              "      <td>66</td>\n",
              "      <td>23</td>\n",
              "      <td>94</td>\n",
              "      <td>28.1</td>\n",
              "      <td>0.167</td>\n",
              "      <td>21</td>\n",
              "      <td>0</td>\n",
              "    </tr>\n",
              "    <tr>\n",
              "      <th>4</th>\n",
              "      <td>0</td>\n",
              "      <td>137</td>\n",
              "      <td>40</td>\n",
              "      <td>35</td>\n",
              "      <td>168</td>\n",
              "      <td>43.1</td>\n",
              "      <td>2.288</td>\n",
              "      <td>33</td>\n",
              "      <td>1</td>\n",
              "    </tr>\n",
              "    <tr>\n",
              "      <th>...</th>\n",
              "      <td>...</td>\n",
              "      <td>...</td>\n",
              "      <td>...</td>\n",
              "      <td>...</td>\n",
              "      <td>...</td>\n",
              "      <td>...</td>\n",
              "      <td>...</td>\n",
              "      <td>...</td>\n",
              "      <td>...</td>\n",
              "    </tr>\n",
              "    <tr>\n",
              "      <th>685</th>\n",
              "      <td>2</td>\n",
              "      <td>129</td>\n",
              "      <td>74</td>\n",
              "      <td>26</td>\n",
              "      <td>205</td>\n",
              "      <td>33.2</td>\n",
              "      <td>0.591</td>\n",
              "      <td>25</td>\n",
              "      <td>0</td>\n",
              "    </tr>\n",
              "    <tr>\n",
              "      <th>686</th>\n",
              "      <td>3</td>\n",
              "      <td>130</td>\n",
              "      <td>64</td>\n",
              "      <td>0</td>\n",
              "      <td>0</td>\n",
              "      <td>23.1</td>\n",
              "      <td>0.314</td>\n",
              "      <td>22</td>\n",
              "      <td>0</td>\n",
              "    </tr>\n",
              "    <tr>\n",
              "      <th>687</th>\n",
              "      <td>1</td>\n",
              "      <td>107</td>\n",
              "      <td>50</td>\n",
              "      <td>19</td>\n",
              "      <td>0</td>\n",
              "      <td>28.3</td>\n",
              "      <td>0.181</td>\n",
              "      <td>29</td>\n",
              "      <td>0</td>\n",
              "    </tr>\n",
              "    <tr>\n",
              "      <th>688</th>\n",
              "      <td>1</td>\n",
              "      <td>140</td>\n",
              "      <td>74</td>\n",
              "      <td>26</td>\n",
              "      <td>180</td>\n",
              "      <td>24.1</td>\n",
              "      <td>0.828</td>\n",
              "      <td>23</td>\n",
              "      <td>0</td>\n",
              "    </tr>\n",
              "    <tr>\n",
              "      <th>689</th>\n",
              "      <td>1</td>\n",
              "      <td>144</td>\n",
              "      <td>82</td>\n",
              "      <td>46</td>\n",
              "      <td>180</td>\n",
              "      <td>46.1</td>\n",
              "      <td>0.335</td>\n",
              "      <td>46</td>\n",
              "      <td>1</td>\n",
              "    </tr>\n",
              "  </tbody>\n",
              "</table>\n",
              "<p>690 rows × 9 columns</p>\n",
              "</div>\n",
              "      <button class=\"colab-df-convert\" onclick=\"convertToInteractive('df-c6d9c4cd-d903-4dce-9a1c-5843d3ea84b4')\"\n",
              "              title=\"Convert this dataframe to an interactive table.\"\n",
              "              style=\"display:none;\">\n",
              "        \n",
              "  <svg xmlns=\"http://www.w3.org/2000/svg\" height=\"24px\"viewBox=\"0 0 24 24\"\n",
              "       width=\"24px\">\n",
              "    <path d=\"M0 0h24v24H0V0z\" fill=\"none\"/>\n",
              "    <path d=\"M18.56 5.44l.94 2.06.94-2.06 2.06-.94-2.06-.94-.94-2.06-.94 2.06-2.06.94zm-11 1L8.5 8.5l.94-2.06 2.06-.94-2.06-.94L8.5 2.5l-.94 2.06-2.06.94zm10 10l.94 2.06.94-2.06 2.06-.94-2.06-.94-.94-2.06-.94 2.06-2.06.94z\"/><path d=\"M17.41 7.96l-1.37-1.37c-.4-.4-.92-.59-1.43-.59-.52 0-1.04.2-1.43.59L10.3 9.45l-7.72 7.72c-.78.78-.78 2.05 0 2.83L4 21.41c.39.39.9.59 1.41.59.51 0 1.02-.2 1.41-.59l7.78-7.78 2.81-2.81c.8-.78.8-2.07 0-2.86zM5.41 20L4 18.59l7.72-7.72 1.47 1.35L5.41 20z\"/>\n",
              "  </svg>\n",
              "      </button>\n",
              "      \n",
              "  <style>\n",
              "    .colab-df-container {\n",
              "      display:flex;\n",
              "      flex-wrap:wrap;\n",
              "      gap: 12px;\n",
              "    }\n",
              "\n",
              "    .colab-df-convert {\n",
              "      background-color: #E8F0FE;\n",
              "      border: none;\n",
              "      border-radius: 50%;\n",
              "      cursor: pointer;\n",
              "      display: none;\n",
              "      fill: #1967D2;\n",
              "      height: 32px;\n",
              "      padding: 0 0 0 0;\n",
              "      width: 32px;\n",
              "    }\n",
              "\n",
              "    .colab-df-convert:hover {\n",
              "      background-color: #E2EBFA;\n",
              "      box-shadow: 0px 1px 2px rgba(60, 64, 67, 0.3), 0px 1px 3px 1px rgba(60, 64, 67, 0.15);\n",
              "      fill: #174EA6;\n",
              "    }\n",
              "\n",
              "    [theme=dark] .colab-df-convert {\n",
              "      background-color: #3B4455;\n",
              "      fill: #D2E3FC;\n",
              "    }\n",
              "\n",
              "    [theme=dark] .colab-df-convert:hover {\n",
              "      background-color: #434B5C;\n",
              "      box-shadow: 0px 1px 3px 1px rgba(0, 0, 0, 0.15);\n",
              "      filter: drop-shadow(0px 1px 2px rgba(0, 0, 0, 0.3));\n",
              "      fill: #FFFFFF;\n",
              "    }\n",
              "  </style>\n",
              "\n",
              "      <script>\n",
              "        const buttonEl =\n",
              "          document.querySelector('#df-c6d9c4cd-d903-4dce-9a1c-5843d3ea84b4 button.colab-df-convert');\n",
              "        buttonEl.style.display =\n",
              "          google.colab.kernel.accessAllowed ? 'block' : 'none';\n",
              "\n",
              "        async function convertToInteractive(key) {\n",
              "          const element = document.querySelector('#df-c6d9c4cd-d903-4dce-9a1c-5843d3ea84b4');\n",
              "          const dataTable =\n",
              "            await google.colab.kernel.invokeFunction('convertToInteractive',\n",
              "                                                     [key], {});\n",
              "          if (!dataTable) return;\n",
              "\n",
              "          const docLinkHtml = 'Like what you see? Visit the ' +\n",
              "            '<a target=\"_blank\" href=https://colab.research.google.com/notebooks/data_table.ipynb>data table notebook</a>'\n",
              "            + ' to learn more about interactive tables.';\n",
              "          element.innerHTML = '';\n",
              "          dataTable['output_type'] = 'display_data';\n",
              "          await google.colab.output.renderOutput(dataTable, element);\n",
              "          const docLink = document.createElement('div');\n",
              "          docLink.innerHTML = docLinkHtml;\n",
              "          element.appendChild(docLink);\n",
              "        }\n",
              "      </script>\n",
              "    </div>\n",
              "  </div>\n",
              "  "
            ]
          },
          "metadata": {},
          "execution_count": 5
        }
      ]
    },
    {
      "cell_type": "markdown",
      "source": [
        "Вывод числа строк в получившейся выборке, относящихся к классу 0 (не болеет диабетом)"
      ],
      "metadata": {
        "id": "dPdN_oVfOEsB"
      }
    },
    {
      "cell_type": "code",
      "source": [
        "len(task_data[task_data['Outcome'] == 0])"
      ],
      "metadata": {
        "colab": {
          "base_uri": "https://localhost:8080/"
        },
        "id": "Wm7-4P2qN_iN",
        "outputId": "35aec6ae-7a5f-4d33-8957-45b62857c97d"
      },
      "execution_count": 20,
      "outputs": [
        {
          "output_type": "execute_result",
          "data": {
            "text/plain": [
              "453"
            ]
          },
          "metadata": {},
          "execution_count": 20
        }
      ]
    },
    {
      "cell_type": "markdown",
      "source": [
        "Разделим данные на обучающие и тестовые в отношении 80% к 20%"
      ],
      "metadata": {
        "id": "LoAlm0TYOV6T"
      }
    },
    {
      "cell_type": "code",
      "source": [
        "train = task_data.head(int(len(task_data)*0.8))\n",
        "test = task_data.tail(int(len(task_data)*0.2))"
      ],
      "metadata": {
        "id": "q-uj9sPcOhfV"
      },
      "execution_count": 21,
      "outputs": []
    },
    {
      "cell_type": "markdown",
      "source": [
        "Выделим предикторы - первые 8 столбцов. Отклик - **Outcome**"
      ],
      "metadata": {
        "id": "W77cA7_gOzvO"
      }
    },
    {
      "cell_type": "code",
      "source": [
        "features = list(train.columns[:8])\n",
        "x = train[features]\n",
        "y = train['Outcome']"
      ],
      "metadata": {
        "id": "PQi1wAhbO9cz"
      },
      "execution_count": 22,
      "outputs": []
    },
    {
      "cell_type": "markdown",
      "source": [
        "Зададим параметры дерева принятия решений и обучаем модель"
      ],
      "metadata": {
        "id": "lgvOFfigPdss"
      }
    },
    {
      "cell_type": "code",
      "source": [
        "tree = DecisionTreeClassifier(criterion = 'entropy',\n",
        "                              min_samples_leaf = 10,\n",
        "                              max_leaf_nodes = 20,\n",
        "                              random_state = 2020)\n",
        "clf = tree.fit(x, y)"
      ],
      "metadata": {
        "id": "ssWglIbvPjmc"
      },
      "execution_count": 23,
      "outputs": []
    },
    {
      "cell_type": "markdown",
      "source": [
        "Визуализируем дерево"
      ],
      "metadata": {
        "id": "-qjydHbgQDKn"
      }
    },
    {
      "cell_type": "code",
      "source": [
        "columns = list(x.columns)\n",
        "export_graphviz(clf, out_file = 'tree.dot',\n",
        "                feature_names = columns,\n",
        "                class_names = ['0', '1'],\n",
        "                rounded = 2, filled = True, label = 'all')\n",
        "with open('tree.dot') as f:\n",
        "  dot_graph = f.read()\n",
        "graphviz.Source(dot_graph)"
      ],
      "metadata": {
        "colab": {
          "base_uri": "https://localhost:8080/",
          "height": 1000
        },
        "id": "G4SCiMaWQHfa",
        "outputId": "f712e0c2-1a71-4e5c-8504-8492eb7a4b25"
      },
      "execution_count": 42,
      "outputs": [
        {
          "output_type": "execute_result",
          "data": {
            "text/plain": [
              "<graphviz.files.Source at 0x7f473d8d18d0>"
            ],
            "image/svg+xml": "<?xml version=\"1.0\" encoding=\"UTF-8\" standalone=\"no\"?>\n<!DOCTYPE svg PUBLIC \"-//W3C//DTD SVG 1.1//EN\"\n \"http://www.w3.org/Graphics/SVG/1.1/DTD/svg11.dtd\">\n<!-- Generated by graphviz version 2.40.1 (20161225.0304)\n -->\n<!-- Title: Tree Pages: 1 -->\n<svg width=\"1890pt\" height=\"790pt\"\n viewBox=\"0.00 0.00 1889.50 790.00\" xmlns=\"http://www.w3.org/2000/svg\" xmlns:xlink=\"http://www.w3.org/1999/xlink\">\n<g id=\"graph0\" class=\"graph\" transform=\"scale(1 1) rotate(0) translate(4 786)\">\n<title>Tree</title>\n<polygon fill=\"#ffffff\" stroke=\"transparent\" points=\"-4,4 -4,-786 1885.5,-786 1885.5,4 -4,4\"/>\n<!-- 0 -->\n<g id=\"node1\" class=\"node\">\n<title>0</title>\n<path fill=\"#f3c6a5\" stroke=\"#000000\" d=\"M848.5,-782C848.5,-782 740.5,-782 740.5,-782 734.5,-782 728.5,-776 728.5,-770 728.5,-770 728.5,-711 728.5,-711 728.5,-705 734.5,-699 740.5,-699 740.5,-699 848.5,-699 848.5,-699 854.5,-699 860.5,-705 860.5,-711 860.5,-711 860.5,-770 860.5,-770 860.5,-776 854.5,-782 848.5,-782\"/>\n<text text-anchor=\"middle\" x=\"794.5\" y=\"-766.8\" font-family=\"Helvetica,sans-Serif\" font-size=\"14.00\" fill=\"#000000\">Glucose &lt;= 127.5</text>\n<text text-anchor=\"middle\" x=\"794.5\" y=\"-751.8\" font-family=\"Helvetica,sans-Serif\" font-size=\"14.00\" fill=\"#000000\">entropy = 0.937</text>\n<text text-anchor=\"middle\" x=\"794.5\" y=\"-736.8\" font-family=\"Helvetica,sans-Serif\" font-size=\"14.00\" fill=\"#000000\">samples = 552</text>\n<text text-anchor=\"middle\" x=\"794.5\" y=\"-721.8\" font-family=\"Helvetica,sans-Serif\" font-size=\"14.00\" fill=\"#000000\">value = [357, 195]</text>\n<text text-anchor=\"middle\" x=\"794.5\" y=\"-706.8\" font-family=\"Helvetica,sans-Serif\" font-size=\"14.00\" fill=\"#000000\">class = 0</text>\n</g>\n<!-- 1 -->\n<g id=\"node2\" class=\"node\">\n<title>1</title>\n<path fill=\"#eca16c\" stroke=\"#000000\" d=\"M708.5,-663C708.5,-663 608.5,-663 608.5,-663 602.5,-663 596.5,-657 596.5,-651 596.5,-651 596.5,-592 596.5,-592 596.5,-586 602.5,-580 608.5,-580 608.5,-580 708.5,-580 708.5,-580 714.5,-580 720.5,-586 720.5,-592 720.5,-592 720.5,-651 720.5,-651 720.5,-657 714.5,-663 708.5,-663\"/>\n<text text-anchor=\"middle\" x=\"658.5\" y=\"-647.8\" font-family=\"Helvetica,sans-Serif\" font-size=\"14.00\" fill=\"#000000\">Age &lt;= 27.5</text>\n<text text-anchor=\"middle\" x=\"658.5\" y=\"-632.8\" font-family=\"Helvetica,sans-Serif\" font-size=\"14.00\" fill=\"#000000\">entropy = 0.73</text>\n<text text-anchor=\"middle\" x=\"658.5\" y=\"-617.8\" font-family=\"Helvetica,sans-Serif\" font-size=\"14.00\" fill=\"#000000\">samples = 343</text>\n<text text-anchor=\"middle\" x=\"658.5\" y=\"-602.8\" font-family=\"Helvetica,sans-Serif\" font-size=\"14.00\" fill=\"#000000\">value = [273, 70]</text>\n<text text-anchor=\"middle\" x=\"658.5\" y=\"-587.8\" font-family=\"Helvetica,sans-Serif\" font-size=\"14.00\" fill=\"#000000\">class = 0</text>\n</g>\n<!-- 0&#45;&gt;1 -->\n<g id=\"edge1\" class=\"edge\">\n<title>0&#45;&gt;1</title>\n<path fill=\"none\" stroke=\"#000000\" d=\"M746.9338,-698.8796C736.3321,-689.6031 724.9998,-679.6874 714.1067,-670.1559\"/>\n<polygon fill=\"#000000\" stroke=\"#000000\" points=\"716.0998,-667.2491 706.2692,-663.2981 711.4902,-672.5172 716.0998,-667.2491\"/>\n<text text-anchor=\"middle\" x=\"707.9322\" y=\"-684.5427\" font-family=\"Helvetica,sans-Serif\" font-size=\"14.00\" fill=\"#000000\">True</text>\n</g>\n<!-- 2 -->\n<g id=\"node19\" class=\"node\">\n<title>2</title>\n<path fill=\"#bedff6\" stroke=\"#000000\" d=\"M1002.5,-663C1002.5,-663 902.5,-663 902.5,-663 896.5,-663 890.5,-657 890.5,-651 890.5,-651 890.5,-592 890.5,-592 890.5,-586 896.5,-580 902.5,-580 902.5,-580 1002.5,-580 1002.5,-580 1008.5,-580 1014.5,-586 1014.5,-592 1014.5,-592 1014.5,-651 1014.5,-651 1014.5,-657 1008.5,-663 1002.5,-663\"/>\n<text text-anchor=\"middle\" x=\"952.5\" y=\"-647.8\" font-family=\"Helvetica,sans-Serif\" font-size=\"14.00\" fill=\"#000000\">BMI &lt;= 29.95</text>\n<text text-anchor=\"middle\" x=\"952.5\" y=\"-632.8\" font-family=\"Helvetica,sans-Serif\" font-size=\"14.00\" fill=\"#000000\">entropy = 0.972</text>\n<text text-anchor=\"middle\" x=\"952.5\" y=\"-617.8\" font-family=\"Helvetica,sans-Serif\" font-size=\"14.00\" fill=\"#000000\">samples = 209</text>\n<text text-anchor=\"middle\" x=\"952.5\" y=\"-602.8\" font-family=\"Helvetica,sans-Serif\" font-size=\"14.00\" fill=\"#000000\">value = [84, 125]</text>\n<text text-anchor=\"middle\" x=\"952.5\" y=\"-587.8\" font-family=\"Helvetica,sans-Serif\" font-size=\"14.00\" fill=\"#000000\">class = 1</text>\n</g>\n<!-- 0&#45;&gt;2 -->\n<g id=\"edge18\" class=\"edge\">\n<title>0&#45;&gt;2</title>\n<path fill=\"none\" stroke=\"#000000\" d=\"M849.7607,-698.8796C862.5099,-689.2774 876.1683,-678.9903 889.2291,-669.1534\"/>\n<polygon fill=\"#000000\" stroke=\"#000000\" points=\"891.3883,-671.9089 897.2705,-663.0969 887.1769,-666.3174 891.3883,-671.9089\"/>\n<text text-anchor=\"middle\" x=\"893.785\" y=\"-684.1528\" font-family=\"Helvetica,sans-Serif\" font-size=\"14.00\" fill=\"#000000\">False</text>\n</g>\n<!-- 3 -->\n<g id=\"node3\" class=\"node\">\n<title>3</title>\n<path fill=\"#e78b49\" stroke=\"#000000\" d=\"M483.5,-544C483.5,-544 383.5,-544 383.5,-544 377.5,-544 371.5,-538 371.5,-532 371.5,-532 371.5,-473 371.5,-473 371.5,-467 377.5,-461 383.5,-461 383.5,-461 483.5,-461 483.5,-461 489.5,-461 495.5,-467 495.5,-473 495.5,-473 495.5,-532 495.5,-532 495.5,-538 489.5,-544 483.5,-544\"/>\n<text text-anchor=\"middle\" x=\"433.5\" y=\"-528.8\" font-family=\"Helvetica,sans-Serif\" font-size=\"14.00\" fill=\"#000000\">BMI &lt;= 30.9</text>\n<text text-anchor=\"middle\" x=\"433.5\" y=\"-513.8\" font-family=\"Helvetica,sans-Serif\" font-size=\"14.00\" fill=\"#000000\">entropy = 0.382</text>\n<text text-anchor=\"middle\" x=\"433.5\" y=\"-498.8\" font-family=\"Helvetica,sans-Serif\" font-size=\"14.00\" fill=\"#000000\">samples = 175</text>\n<text text-anchor=\"middle\" x=\"433.5\" y=\"-483.8\" font-family=\"Helvetica,sans-Serif\" font-size=\"14.00\" fill=\"#000000\">value = [162, 13]</text>\n<text text-anchor=\"middle\" x=\"433.5\" y=\"-468.8\" font-family=\"Helvetica,sans-Serif\" font-size=\"14.00\" fill=\"#000000\">class = 0</text>\n</g>\n<!-- 1&#45;&gt;3 -->\n<g id=\"edge2\" class=\"edge\">\n<title>1&#45;&gt;3</title>\n<path fill=\"none\" stroke=\"#000000\" d=\"M596.4222,-588.6677C568.0128,-573.6424 534.1946,-555.7563 504.7516,-540.1842\"/>\n<polygon fill=\"#000000\" stroke=\"#000000\" points=\"506.2416,-537.0129 495.7655,-535.4315 502.9689,-543.2008 506.2416,-537.0129\"/>\n</g>\n<!-- 4 -->\n<g id=\"node12\" class=\"node\">\n<title>4</title>\n<path fill=\"#f2c29f\" stroke=\"#000000\" d=\"M708.5,-544C708.5,-544 608.5,-544 608.5,-544 602.5,-544 596.5,-538 596.5,-532 596.5,-532 596.5,-473 596.5,-473 596.5,-467 602.5,-461 608.5,-461 608.5,-461 708.5,-461 708.5,-461 714.5,-461 720.5,-467 720.5,-473 720.5,-473 720.5,-532 720.5,-532 720.5,-538 714.5,-544 708.5,-544\"/>\n<text text-anchor=\"middle\" x=\"658.5\" y=\"-528.8\" font-family=\"Helvetica,sans-Serif\" font-size=\"14.00\" fill=\"#000000\">BMI &lt;= 26.35</text>\n<text text-anchor=\"middle\" x=\"658.5\" y=\"-513.8\" font-family=\"Helvetica,sans-Serif\" font-size=\"14.00\" fill=\"#000000\">entropy = 0.924</text>\n<text text-anchor=\"middle\" x=\"658.5\" y=\"-498.8\" font-family=\"Helvetica,sans-Serif\" font-size=\"14.00\" fill=\"#000000\">samples = 168</text>\n<text text-anchor=\"middle\" x=\"658.5\" y=\"-483.8\" font-family=\"Helvetica,sans-Serif\" font-size=\"14.00\" fill=\"#000000\">value = [111, 57]</text>\n<text text-anchor=\"middle\" x=\"658.5\" y=\"-468.8\" font-family=\"Helvetica,sans-Serif\" font-size=\"14.00\" fill=\"#000000\">class = 0</text>\n</g>\n<!-- 1&#45;&gt;4 -->\n<g id=\"edge11\" class=\"edge\">\n<title>1&#45;&gt;4</title>\n<path fill=\"none\" stroke=\"#000000\" d=\"M658.5,-579.8796C658.5,-571.6838 658.5,-562.9891 658.5,-554.5013\"/>\n<polygon fill=\"#000000\" stroke=\"#000000\" points=\"662.0001,-554.298 658.5,-544.2981 655.0001,-554.2981 662.0001,-554.298\"/>\n</g>\n<!-- 9 -->\n<g id=\"node4\" class=\"node\">\n<title>9</title>\n<path fill=\"#e5823b\" stroke=\"#000000\" d=\"M297.5,-425C297.5,-425 71.5,-425 71.5,-425 65.5,-425 59.5,-419 59.5,-413 59.5,-413 59.5,-354 59.5,-354 59.5,-348 65.5,-342 71.5,-342 71.5,-342 297.5,-342 297.5,-342 303.5,-342 309.5,-348 309.5,-354 309.5,-354 309.5,-413 309.5,-413 309.5,-419 303.5,-425 297.5,-425\"/>\n<text text-anchor=\"middle\" x=\"184.5\" y=\"-409.8\" font-family=\"Helvetica,sans-Serif\" font-size=\"14.00\" fill=\"#000000\">DiabetesPedigreeFunction &lt;= 0.672</text>\n<text text-anchor=\"middle\" x=\"184.5\" y=\"-394.8\" font-family=\"Helvetica,sans-Serif\" font-size=\"14.00\" fill=\"#000000\">entropy = 0.078</text>\n<text text-anchor=\"middle\" x=\"184.5\" y=\"-379.8\" font-family=\"Helvetica,sans-Serif\" font-size=\"14.00\" fill=\"#000000\">samples = 104</text>\n<text text-anchor=\"middle\" x=\"184.5\" y=\"-364.8\" font-family=\"Helvetica,sans-Serif\" font-size=\"14.00\" fill=\"#000000\">value = [103, 1]</text>\n<text text-anchor=\"middle\" x=\"184.5\" y=\"-349.8\" font-family=\"Helvetica,sans-Serif\" font-size=\"14.00\" fill=\"#000000\">class = 0</text>\n</g>\n<!-- 3&#45;&gt;9 -->\n<g id=\"edge3\" class=\"edge\">\n<title>3&#45;&gt;9</title>\n<path fill=\"none\" stroke=\"#000000\" d=\"M371.3091,-472.7782C344.0257,-459.7392 311.3634,-444.1295 281.0356,-429.6355\"/>\n<polygon fill=\"#000000\" stroke=\"#000000\" points=\"282.2388,-426.3314 271.707,-425.1772 279.2203,-432.6472 282.2388,-426.3314\"/>\n</g>\n<!-- 10 -->\n<g id=\"node7\" class=\"node\">\n<title>10</title>\n<path fill=\"#ea9b61\" stroke=\"#000000\" d=\"M487,-425C487,-425 380,-425 380,-425 374,-425 368,-419 368,-413 368,-413 368,-354 368,-354 368,-348 374,-342 380,-342 380,-342 487,-342 487,-342 493,-342 499,-348 499,-354 499,-354 499,-413 499,-413 499,-419 493,-425 487,-425\"/>\n<text text-anchor=\"middle\" x=\"433.5\" y=\"-409.8\" font-family=\"Helvetica,sans-Serif\" font-size=\"14.00\" fill=\"#000000\">Glucose &lt;= 113.5</text>\n<text text-anchor=\"middle\" x=\"433.5\" y=\"-394.8\" font-family=\"Helvetica,sans-Serif\" font-size=\"14.00\" fill=\"#000000\">entropy = 0.655</text>\n<text text-anchor=\"middle\" x=\"433.5\" y=\"-379.8\" font-family=\"Helvetica,sans-Serif\" font-size=\"14.00\" fill=\"#000000\">samples = 71</text>\n<text text-anchor=\"middle\" x=\"433.5\" y=\"-364.8\" font-family=\"Helvetica,sans-Serif\" font-size=\"14.00\" fill=\"#000000\">value = [59, 12]</text>\n<text text-anchor=\"middle\" x=\"433.5\" y=\"-349.8\" font-family=\"Helvetica,sans-Serif\" font-size=\"14.00\" fill=\"#000000\">class = 0</text>\n</g>\n<!-- 3&#45;&gt;10 -->\n<g id=\"edge6\" class=\"edge\">\n<title>3&#45;&gt;10</title>\n<path fill=\"none\" stroke=\"#000000\" d=\"M433.5,-460.8796C433.5,-452.6838 433.5,-443.9891 433.5,-435.5013\"/>\n<polygon fill=\"#000000\" stroke=\"#000000\" points=\"437.0001,-435.298 433.5,-425.2981 430.0001,-435.2981 437.0001,-435.298\"/>\n</g>\n<!-- 35 -->\n<g id=\"node5\" class=\"node\">\n<title>35</title>\n<path fill=\"#e58139\" stroke=\"#000000\" d=\"M95,-298.5C95,-298.5 12,-298.5 12,-298.5 6,-298.5 0,-292.5 0,-286.5 0,-286.5 0,-242.5 0,-242.5 0,-236.5 6,-230.5 12,-230.5 12,-230.5 95,-230.5 95,-230.5 101,-230.5 107,-236.5 107,-242.5 107,-242.5 107,-286.5 107,-286.5 107,-292.5 101,-298.5 95,-298.5\"/>\n<text text-anchor=\"middle\" x=\"53.5\" y=\"-283.3\" font-family=\"Helvetica,sans-Serif\" font-size=\"14.00\" fill=\"#000000\">entropy = 0.0</text>\n<text text-anchor=\"middle\" x=\"53.5\" y=\"-268.3\" font-family=\"Helvetica,sans-Serif\" font-size=\"14.00\" fill=\"#000000\">samples = 91</text>\n<text text-anchor=\"middle\" x=\"53.5\" y=\"-253.3\" font-family=\"Helvetica,sans-Serif\" font-size=\"14.00\" fill=\"#000000\">value = [91, 0]</text>\n<text text-anchor=\"middle\" x=\"53.5\" y=\"-238.3\" font-family=\"Helvetica,sans-Serif\" font-size=\"14.00\" fill=\"#000000\">class = 0</text>\n</g>\n<!-- 9&#45;&gt;35 -->\n<g id=\"edge4\" class=\"edge\">\n<title>9&#45;&gt;35</title>\n<path fill=\"none\" stroke=\"#000000\" d=\"M138.6826,-341.8796C125.7303,-330.1138 111.646,-317.3197 98.7286,-305.5855\"/>\n<polygon fill=\"#000000\" stroke=\"#000000\" points=\"101.0306,-302.9482 91.2753,-298.8149 96.3239,-308.1296 101.0306,-302.9482\"/>\n</g>\n<!-- 36 -->\n<g id=\"node6\" class=\"node\">\n<title>36</title>\n<path fill=\"#e78c49\" stroke=\"#000000\" d=\"M231.5,-298.5C231.5,-298.5 137.5,-298.5 137.5,-298.5 131.5,-298.5 125.5,-292.5 125.5,-286.5 125.5,-286.5 125.5,-242.5 125.5,-242.5 125.5,-236.5 131.5,-230.5 137.5,-230.5 137.5,-230.5 231.5,-230.5 231.5,-230.5 237.5,-230.5 243.5,-236.5 243.5,-242.5 243.5,-242.5 243.5,-286.5 243.5,-286.5 243.5,-292.5 237.5,-298.5 231.5,-298.5\"/>\n<text text-anchor=\"middle\" x=\"184.5\" y=\"-283.3\" font-family=\"Helvetica,sans-Serif\" font-size=\"14.00\" fill=\"#000000\">entropy = 0.391</text>\n<text text-anchor=\"middle\" x=\"184.5\" y=\"-268.3\" font-family=\"Helvetica,sans-Serif\" font-size=\"14.00\" fill=\"#000000\">samples = 13</text>\n<text text-anchor=\"middle\" x=\"184.5\" y=\"-253.3\" font-family=\"Helvetica,sans-Serif\" font-size=\"14.00\" fill=\"#000000\">value = [12, 1]</text>\n<text text-anchor=\"middle\" x=\"184.5\" y=\"-238.3\" font-family=\"Helvetica,sans-Serif\" font-size=\"14.00\" fill=\"#000000\">class = 0</text>\n</g>\n<!-- 9&#45;&gt;36 -->\n<g id=\"edge5\" class=\"edge\">\n<title>9&#45;&gt;36</title>\n<path fill=\"none\" stroke=\"#000000\" d=\"M184.5,-341.8796C184.5,-331.2134 184.5,-319.7021 184.5,-308.9015\"/>\n<polygon fill=\"#000000\" stroke=\"#000000\" points=\"188.0001,-308.8149 184.5,-298.8149 181.0001,-308.815 188.0001,-308.8149\"/>\n</g>\n<!-- 31 -->\n<g id=\"node8\" class=\"node\">\n<title>31</title>\n<path fill=\"#eca16c\" stroke=\"#000000\" d=\"M381,-306C381,-306 274,-306 274,-306 268,-306 262,-300 262,-294 262,-294 262,-235 262,-235 262,-229 268,-223 274,-223 274,-223 381,-223 381,-223 387,-223 393,-229 393,-235 393,-235 393,-294 393,-294 393,-300 387,-306 381,-306\"/>\n<text text-anchor=\"middle\" x=\"327.5\" y=\"-290.8\" font-family=\"Helvetica,sans-Serif\" font-size=\"14.00\" fill=\"#000000\">Glucose &lt;= 101.5</text>\n<text text-anchor=\"middle\" x=\"327.5\" y=\"-275.8\" font-family=\"Helvetica,sans-Serif\" font-size=\"14.00\" fill=\"#000000\">entropy = 0.729</text>\n<text text-anchor=\"middle\" x=\"327.5\" y=\"-260.8\" font-family=\"Helvetica,sans-Serif\" font-size=\"14.00\" fill=\"#000000\">samples = 59</text>\n<text text-anchor=\"middle\" x=\"327.5\" y=\"-245.8\" font-family=\"Helvetica,sans-Serif\" font-size=\"14.00\" fill=\"#000000\">value = [47, 12]</text>\n<text text-anchor=\"middle\" x=\"327.5\" y=\"-230.8\" font-family=\"Helvetica,sans-Serif\" font-size=\"14.00\" fill=\"#000000\">class = 0</text>\n</g>\n<!-- 10&#45;&gt;31 -->\n<g id=\"edge7\" class=\"edge\">\n<title>10&#45;&gt;31</title>\n<path fill=\"none\" stroke=\"#000000\" d=\"M396.4263,-341.8796C388.4039,-332.8733 379.8448,-323.2644 371.5833,-313.9897\"/>\n<polygon fill=\"#000000\" stroke=\"#000000\" points=\"373.9969,-311.4373 364.7319,-306.2981 368.7698,-316.0933 373.9969,-311.4373\"/>\n</g>\n<!-- 32 -->\n<g id=\"node11\" class=\"node\">\n<title>32</title>\n<path fill=\"#e58139\" stroke=\"#000000\" d=\"M506,-298.5C506,-298.5 423,-298.5 423,-298.5 417,-298.5 411,-292.5 411,-286.5 411,-286.5 411,-242.5 411,-242.5 411,-236.5 417,-230.5 423,-230.5 423,-230.5 506,-230.5 506,-230.5 512,-230.5 518,-236.5 518,-242.5 518,-242.5 518,-286.5 518,-286.5 518,-292.5 512,-298.5 506,-298.5\"/>\n<text text-anchor=\"middle\" x=\"464.5\" y=\"-283.3\" font-family=\"Helvetica,sans-Serif\" font-size=\"14.00\" fill=\"#000000\">entropy = 0.0</text>\n<text text-anchor=\"middle\" x=\"464.5\" y=\"-268.3\" font-family=\"Helvetica,sans-Serif\" font-size=\"14.00\" fill=\"#000000\">samples = 12</text>\n<text text-anchor=\"middle\" x=\"464.5\" y=\"-253.3\" font-family=\"Helvetica,sans-Serif\" font-size=\"14.00\" fill=\"#000000\">value = [12, 0]</text>\n<text text-anchor=\"middle\" x=\"464.5\" y=\"-238.3\" font-family=\"Helvetica,sans-Serif\" font-size=\"14.00\" fill=\"#000000\">class = 0</text>\n</g>\n<!-- 10&#45;&gt;32 -->\n<g id=\"edge10\" class=\"edge\">\n<title>10&#45;&gt;32</title>\n<path fill=\"none\" stroke=\"#000000\" d=\"M444.3423,-341.8796C447.1495,-331.1034 450.1815,-319.4647 453.0202,-308.5677\"/>\n<polygon fill=\"#000000\" stroke=\"#000000\" points=\"456.4268,-309.3743 455.5608,-298.8149 449.6529,-307.6096 456.4268,-309.3743\"/>\n</g>\n<!-- 33 -->\n<g id=\"node9\" class=\"node\">\n<title>33</title>\n<path fill=\"#e89050\" stroke=\"#000000\" d=\"M306.5,-179.5C306.5,-179.5 212.5,-179.5 212.5,-179.5 206.5,-179.5 200.5,-173.5 200.5,-167.5 200.5,-167.5 200.5,-123.5 200.5,-123.5 200.5,-117.5 206.5,-111.5 212.5,-111.5 212.5,-111.5 306.5,-111.5 306.5,-111.5 312.5,-111.5 318.5,-117.5 318.5,-123.5 318.5,-123.5 318.5,-167.5 318.5,-167.5 318.5,-173.5 312.5,-179.5 306.5,-179.5\"/>\n<text text-anchor=\"middle\" x=\"259.5\" y=\"-164.3\" font-family=\"Helvetica,sans-Serif\" font-size=\"14.00\" fill=\"#000000\">entropy = 0.485</text>\n<text text-anchor=\"middle\" x=\"259.5\" y=\"-149.3\" font-family=\"Helvetica,sans-Serif\" font-size=\"14.00\" fill=\"#000000\">samples = 38</text>\n<text text-anchor=\"middle\" x=\"259.5\" y=\"-134.3\" font-family=\"Helvetica,sans-Serif\" font-size=\"14.00\" fill=\"#000000\">value = [34, 4]</text>\n<text text-anchor=\"middle\" x=\"259.5\" y=\"-119.3\" font-family=\"Helvetica,sans-Serif\" font-size=\"14.00\" fill=\"#000000\">class = 0</text>\n</g>\n<!-- 31&#45;&gt;33 -->\n<g id=\"edge8\" class=\"edge\">\n<title>31&#45;&gt;33</title>\n<path fill=\"none\" stroke=\"#000000\" d=\"M303.7169,-222.8796C297.3706,-211.7735 290.5007,-199.7513 284.1109,-188.5691\"/>\n<polygon fill=\"#000000\" stroke=\"#000000\" points=\"287.1088,-186.7609 279.1085,-179.8149 281.0311,-190.2339 287.1088,-186.7609\"/>\n</g>\n<!-- 34 -->\n<g id=\"node10\" class=\"node\">\n<title>34</title>\n<path fill=\"#f5cfb3\" stroke=\"#000000\" d=\"M442.5,-179.5C442.5,-179.5 348.5,-179.5 348.5,-179.5 342.5,-179.5 336.5,-173.5 336.5,-167.5 336.5,-167.5 336.5,-123.5 336.5,-123.5 336.5,-117.5 342.5,-111.5 348.5,-111.5 348.5,-111.5 442.5,-111.5 442.5,-111.5 448.5,-111.5 454.5,-117.5 454.5,-123.5 454.5,-123.5 454.5,-167.5 454.5,-167.5 454.5,-173.5 448.5,-179.5 442.5,-179.5\"/>\n<text text-anchor=\"middle\" x=\"395.5\" y=\"-164.3\" font-family=\"Helvetica,sans-Serif\" font-size=\"14.00\" fill=\"#000000\">entropy = 0.959</text>\n<text text-anchor=\"middle\" x=\"395.5\" y=\"-149.3\" font-family=\"Helvetica,sans-Serif\" font-size=\"14.00\" fill=\"#000000\">samples = 21</text>\n<text text-anchor=\"middle\" x=\"395.5\" y=\"-134.3\" font-family=\"Helvetica,sans-Serif\" font-size=\"14.00\" fill=\"#000000\">value = [13, 8]</text>\n<text text-anchor=\"middle\" x=\"395.5\" y=\"-119.3\" font-family=\"Helvetica,sans-Serif\" font-size=\"14.00\" fill=\"#000000\">class = 0</text>\n</g>\n<!-- 31&#45;&gt;34 -->\n<g id=\"edge9\" class=\"edge\">\n<title>31&#45;&gt;34</title>\n<path fill=\"none\" stroke=\"#000000\" d=\"M351.2831,-222.8796C357.6294,-211.7735 364.4993,-199.7513 370.8891,-188.5691\"/>\n<polygon fill=\"#000000\" stroke=\"#000000\" points=\"373.9689,-190.2339 375.8915,-179.8149 367.8912,-186.7609 373.9689,-190.2339\"/>\n</g>\n<!-- 7 -->\n<g id=\"node13\" class=\"node\">\n<title>7</title>\n<path fill=\"#e6853f\" stroke=\"#000000\" d=\"M641.5,-417.5C641.5,-417.5 547.5,-417.5 547.5,-417.5 541.5,-417.5 535.5,-411.5 535.5,-405.5 535.5,-405.5 535.5,-361.5 535.5,-361.5 535.5,-355.5 541.5,-349.5 547.5,-349.5 547.5,-349.5 641.5,-349.5 641.5,-349.5 647.5,-349.5 653.5,-355.5 653.5,-361.5 653.5,-361.5 653.5,-405.5 653.5,-405.5 653.5,-411.5 647.5,-417.5 641.5,-417.5\"/>\n<text text-anchor=\"middle\" x=\"594.5\" y=\"-402.3\" font-family=\"Helvetica,sans-Serif\" font-size=\"14.00\" fill=\"#000000\">entropy = 0.191</text>\n<text text-anchor=\"middle\" x=\"594.5\" y=\"-387.3\" font-family=\"Helvetica,sans-Serif\" font-size=\"14.00\" fill=\"#000000\">samples = 34</text>\n<text text-anchor=\"middle\" x=\"594.5\" y=\"-372.3\" font-family=\"Helvetica,sans-Serif\" font-size=\"14.00\" fill=\"#000000\">value = [33, 1]</text>\n<text text-anchor=\"middle\" x=\"594.5\" y=\"-357.3\" font-family=\"Helvetica,sans-Serif\" font-size=\"14.00\" fill=\"#000000\">class = 0</text>\n</g>\n<!-- 4&#45;&gt;7 -->\n<g id=\"edge12\" class=\"edge\">\n<title>4&#45;&gt;7</title>\n<path fill=\"none\" stroke=\"#000000\" d=\"M636.1159,-460.8796C630.202,-449.8835 623.8051,-437.9893 617.842,-426.9015\"/>\n<polygon fill=\"#000000\" stroke=\"#000000\" points=\"620.7742,-424.9642 612.9551,-417.8149 614.6092,-428.2799 620.7742,-424.9642\"/>\n</g>\n<!-- 8 -->\n<g id=\"node14\" class=\"node\">\n<title>8</title>\n<path fill=\"#f8dbc7\" stroke=\"#000000\" d=\"M783,-425C783,-425 684,-425 684,-425 678,-425 672,-419 672,-413 672,-413 672,-354 672,-354 672,-348 678,-342 684,-342 684,-342 783,-342 783,-342 789,-342 795,-348 795,-354 795,-354 795,-413 795,-413 795,-419 789,-425 783,-425\"/>\n<text text-anchor=\"middle\" x=\"733.5\" y=\"-409.8\" font-family=\"Helvetica,sans-Serif\" font-size=\"14.00\" fill=\"#000000\">Glucose &lt;= 99.5</text>\n<text text-anchor=\"middle\" x=\"733.5\" y=\"-394.8\" font-family=\"Helvetica,sans-Serif\" font-size=\"14.00\" fill=\"#000000\">entropy = 0.98</text>\n<text text-anchor=\"middle\" x=\"733.5\" y=\"-379.8\" font-family=\"Helvetica,sans-Serif\" font-size=\"14.00\" fill=\"#000000\">samples = 134</text>\n<text text-anchor=\"middle\" x=\"733.5\" y=\"-364.8\" font-family=\"Helvetica,sans-Serif\" font-size=\"14.00\" fill=\"#000000\">value = [78, 56]</text>\n<text text-anchor=\"middle\" x=\"733.5\" y=\"-349.8\" font-family=\"Helvetica,sans-Serif\" font-size=\"14.00\" fill=\"#000000\">class = 0</text>\n</g>\n<!-- 4&#45;&gt;8 -->\n<g id=\"edge13\" class=\"edge\">\n<title>4&#45;&gt;8</title>\n<path fill=\"none\" stroke=\"#000000\" d=\"M684.7314,-460.8796C690.2373,-452.1434 696.1006,-442.8404 701.7824,-433.8253\"/>\n<polygon fill=\"#000000\" stroke=\"#000000\" points=\"704.7857,-435.6242 707.1567,-425.2981 698.8637,-431.8919 704.7857,-435.6242\"/>\n</g>\n<!-- 15 -->\n<g id=\"node15\" class=\"node\">\n<title>15</title>\n<path fill=\"#eba069\" stroke=\"#000000\" d=\"M642.5,-298.5C642.5,-298.5 548.5,-298.5 548.5,-298.5 542.5,-298.5 536.5,-292.5 536.5,-286.5 536.5,-286.5 536.5,-242.5 536.5,-242.5 536.5,-236.5 542.5,-230.5 548.5,-230.5 548.5,-230.5 642.5,-230.5 642.5,-230.5 648.5,-230.5 654.5,-236.5 654.5,-242.5 654.5,-242.5 654.5,-286.5 654.5,-286.5 654.5,-292.5 648.5,-298.5 642.5,-298.5\"/>\n<text text-anchor=\"middle\" x=\"595.5\" y=\"-283.3\" font-family=\"Helvetica,sans-Serif\" font-size=\"14.00\" fill=\"#000000\">entropy = 0.712</text>\n<text text-anchor=\"middle\" x=\"595.5\" y=\"-268.3\" font-family=\"Helvetica,sans-Serif\" font-size=\"14.00\" fill=\"#000000\">samples = 41</text>\n<text text-anchor=\"middle\" x=\"595.5\" y=\"-253.3\" font-family=\"Helvetica,sans-Serif\" font-size=\"14.00\" fill=\"#000000\">value = [33, 8]</text>\n<text text-anchor=\"middle\" x=\"595.5\" y=\"-238.3\" font-family=\"Helvetica,sans-Serif\" font-size=\"14.00\" fill=\"#000000\">class = 0</text>\n</g>\n<!-- 8&#45;&gt;15 -->\n<g id=\"edge14\" class=\"edge\">\n<title>8&#45;&gt;15</title>\n<path fill=\"none\" stroke=\"#000000\" d=\"M685.2343,-341.8796C671.5899,-330.1138 656.7531,-317.3197 643.1454,-305.5855\"/>\n<polygon fill=\"#000000\" stroke=\"#000000\" points=\"645.1527,-302.6948 635.2938,-298.8149 640.5813,-307.9961 645.1527,-302.6948\"/>\n</g>\n<!-- 16 -->\n<g id=\"node16\" class=\"node\">\n<title>16</title>\n<path fill=\"#f3f9fd\" stroke=\"#000000\" d=\"M910.5,-306C910.5,-306 684.5,-306 684.5,-306 678.5,-306 672.5,-300 672.5,-294 672.5,-294 672.5,-235 672.5,-235 672.5,-229 678.5,-223 684.5,-223 684.5,-223 910.5,-223 910.5,-223 916.5,-223 922.5,-229 922.5,-235 922.5,-235 922.5,-294 922.5,-294 922.5,-300 916.5,-306 910.5,-306\"/>\n<text text-anchor=\"middle\" x=\"797.5\" y=\"-290.8\" font-family=\"Helvetica,sans-Serif\" font-size=\"14.00\" fill=\"#000000\">DiabetesPedigreeFunction &lt;= 0.204</text>\n<text text-anchor=\"middle\" x=\"797.5\" y=\"-275.8\" font-family=\"Helvetica,sans-Serif\" font-size=\"14.00\" fill=\"#000000\">entropy = 0.999</text>\n<text text-anchor=\"middle\" x=\"797.5\" y=\"-260.8\" font-family=\"Helvetica,sans-Serif\" font-size=\"14.00\" fill=\"#000000\">samples = 93</text>\n<text text-anchor=\"middle\" x=\"797.5\" y=\"-245.8\" font-family=\"Helvetica,sans-Serif\" font-size=\"14.00\" fill=\"#000000\">value = [45, 48]</text>\n<text text-anchor=\"middle\" x=\"797.5\" y=\"-230.8\" font-family=\"Helvetica,sans-Serif\" font-size=\"14.00\" fill=\"#000000\">class = 1</text>\n</g>\n<!-- 8&#45;&gt;16 -->\n<g id=\"edge15\" class=\"edge\">\n<title>8&#45;&gt;16</title>\n<path fill=\"none\" stroke=\"#000000\" d=\"M755.8841,-341.8796C760.4856,-333.3236 765.3796,-324.2238 770.1342,-315.3833\"/>\n<polygon fill=\"#000000\" stroke=\"#000000\" points=\"773.3662,-316.763 775.0204,-306.2981 767.2012,-313.4473 773.3662,-316.763\"/>\n</g>\n<!-- 23 -->\n<g id=\"node17\" class=\"node\">\n<title>23</title>\n<path fill=\"#ea985d\" stroke=\"#000000\" d=\"M749.5,-179.5C749.5,-179.5 655.5,-179.5 655.5,-179.5 649.5,-179.5 643.5,-173.5 643.5,-167.5 643.5,-167.5 643.5,-123.5 643.5,-123.5 643.5,-117.5 649.5,-111.5 655.5,-111.5 655.5,-111.5 749.5,-111.5 749.5,-111.5 755.5,-111.5 761.5,-117.5 761.5,-123.5 761.5,-123.5 761.5,-167.5 761.5,-167.5 761.5,-173.5 755.5,-179.5 749.5,-179.5\"/>\n<text text-anchor=\"middle\" x=\"702.5\" y=\"-164.3\" font-family=\"Helvetica,sans-Serif\" font-size=\"14.00\" fill=\"#000000\">entropy = 0.619</text>\n<text text-anchor=\"middle\" x=\"702.5\" y=\"-149.3\" font-family=\"Helvetica,sans-Serif\" font-size=\"14.00\" fill=\"#000000\">samples = 13</text>\n<text text-anchor=\"middle\" x=\"702.5\" y=\"-134.3\" font-family=\"Helvetica,sans-Serif\" font-size=\"14.00\" fill=\"#000000\">value = [11, 2]</text>\n<text text-anchor=\"middle\" x=\"702.5\" y=\"-119.3\" font-family=\"Helvetica,sans-Serif\" font-size=\"14.00\" fill=\"#000000\">class = 0</text>\n</g>\n<!-- 16&#45;&gt;23 -->\n<g id=\"edge16\" class=\"edge\">\n<title>16&#45;&gt;23</title>\n<path fill=\"none\" stroke=\"#000000\" d=\"M764.2736,-222.8796C755.2319,-211.5536 745.4295,-199.2748 736.3534,-187.9058\"/>\n<polygon fill=\"#000000\" stroke=\"#000000\" points=\"738.8685,-185.4464 729.8943,-179.8149 733.398,-189.8137 738.8685,-185.4464\"/>\n</g>\n<!-- 24 -->\n<g id=\"node18\" class=\"node\">\n<title>24</title>\n<path fill=\"#cbe5f8\" stroke=\"#000000\" d=\"M885.5,-179.5C885.5,-179.5 791.5,-179.5 791.5,-179.5 785.5,-179.5 779.5,-173.5 779.5,-167.5 779.5,-167.5 779.5,-123.5 779.5,-123.5 779.5,-117.5 785.5,-111.5 791.5,-111.5 791.5,-111.5 885.5,-111.5 885.5,-111.5 891.5,-111.5 897.5,-117.5 897.5,-123.5 897.5,-123.5 897.5,-167.5 897.5,-167.5 897.5,-173.5 891.5,-179.5 885.5,-179.5\"/>\n<text text-anchor=\"middle\" x=\"838.5\" y=\"-164.3\" font-family=\"Helvetica,sans-Serif\" font-size=\"14.00\" fill=\"#000000\">entropy = 0.984</text>\n<text text-anchor=\"middle\" x=\"838.5\" y=\"-149.3\" font-family=\"Helvetica,sans-Serif\" font-size=\"14.00\" fill=\"#000000\">samples = 80</text>\n<text text-anchor=\"middle\" x=\"838.5\" y=\"-134.3\" font-family=\"Helvetica,sans-Serif\" font-size=\"14.00\" fill=\"#000000\">value = [34, 46]</text>\n<text text-anchor=\"middle\" x=\"838.5\" y=\"-119.3\" font-family=\"Helvetica,sans-Serif\" font-size=\"14.00\" fill=\"#000000\">class = 1</text>\n</g>\n<!-- 16&#45;&gt;24 -->\n<g id=\"edge17\" class=\"edge\">\n<title>16&#45;&gt;24</title>\n<path fill=\"none\" stroke=\"#000000\" d=\"M811.8398,-222.8796C815.5526,-212.1034 819.5626,-200.4647 823.317,-189.5677\"/>\n<polygon fill=\"#000000\" stroke=\"#000000\" points=\"826.7288,-190.4096 826.6772,-179.8149 820.1106,-188.1294 826.7288,-190.4096\"/>\n</g>\n<!-- 5 -->\n<g id=\"node20\" class=\"node\">\n<title>5</title>\n<path fill=\"#eead7e\" stroke=\"#000000\" d=\"M1012,-544C1012,-544 893,-544 893,-544 887,-544 881,-538 881,-532 881,-532 881,-473 881,-473 881,-467 887,-461 893,-461 893,-461 1012,-461 1012,-461 1018,-461 1024,-467 1024,-473 1024,-473 1024,-532 1024,-532 1024,-538 1018,-544 1012,-544\"/>\n<text text-anchor=\"middle\" x=\"952.5\" y=\"-528.8\" font-family=\"Helvetica,sans-Serif\" font-size=\"14.00\" fill=\"#000000\">Pregnancies &lt;= 1.5</text>\n<text text-anchor=\"middle\" x=\"952.5\" y=\"-513.8\" font-family=\"Helvetica,sans-Serif\" font-size=\"14.00\" fill=\"#000000\">entropy = 0.825</text>\n<text text-anchor=\"middle\" x=\"952.5\" y=\"-498.8\" font-family=\"Helvetica,sans-Serif\" font-size=\"14.00\" fill=\"#000000\">samples = 58</text>\n<text text-anchor=\"middle\" x=\"952.5\" y=\"-483.8\" font-family=\"Helvetica,sans-Serif\" font-size=\"14.00\" fill=\"#000000\">value = [43, 15]</text>\n<text text-anchor=\"middle\" x=\"952.5\" y=\"-468.8\" font-family=\"Helvetica,sans-Serif\" font-size=\"14.00\" fill=\"#000000\">class = 0</text>\n</g>\n<!-- 2&#45;&gt;5 -->\n<g id=\"edge19\" class=\"edge\">\n<title>2&#45;&gt;5</title>\n<path fill=\"none\" stroke=\"#000000\" d=\"M952.5,-579.8796C952.5,-571.6838 952.5,-562.9891 952.5,-554.5013\"/>\n<polygon fill=\"#000000\" stroke=\"#000000\" points=\"956.0001,-554.298 952.5,-544.2981 949.0001,-554.2981 956.0001,-554.298\"/>\n</g>\n<!-- 6 -->\n<g id=\"node27\" class=\"node\">\n<title>6</title>\n<path fill=\"#83c2ef\" stroke=\"#000000\" d=\"M1356,-544C1356,-544 1215,-544 1215,-544 1209,-544 1203,-538 1203,-532 1203,-532 1203,-473 1203,-473 1203,-467 1209,-461 1215,-461 1215,-461 1356,-461 1356,-461 1362,-461 1368,-467 1368,-473 1368,-473 1368,-532 1368,-532 1368,-538 1362,-544 1356,-544\"/>\n<text text-anchor=\"middle\" x=\"1285.5\" y=\"-528.8\" font-family=\"Helvetica,sans-Serif\" font-size=\"14.00\" fill=\"#000000\">BloodPressure &lt;= 61.0</text>\n<text text-anchor=\"middle\" x=\"1285.5\" y=\"-513.8\" font-family=\"Helvetica,sans-Serif\" font-size=\"14.00\" fill=\"#000000\">entropy = 0.844</text>\n<text text-anchor=\"middle\" x=\"1285.5\" y=\"-498.8\" font-family=\"Helvetica,sans-Serif\" font-size=\"14.00\" fill=\"#000000\">samples = 151</text>\n<text text-anchor=\"middle\" x=\"1285.5\" y=\"-483.8\" font-family=\"Helvetica,sans-Serif\" font-size=\"14.00\" fill=\"#000000\">value = [41, 110]</text>\n<text text-anchor=\"middle\" x=\"1285.5\" y=\"-468.8\" font-family=\"Helvetica,sans-Serif\" font-size=\"14.00\" fill=\"#000000\">class = 1</text>\n</g>\n<!-- 2&#45;&gt;6 -->\n<g id=\"edge26\" class=\"edge\">\n<title>2&#45;&gt;6</title>\n<path fill=\"none\" stroke=\"#000000\" d=\"M1014.7441,-599.2566C1064.9266,-581.3235 1136.2514,-555.8351 1193.0989,-535.5202\"/>\n<polygon fill=\"#000000\" stroke=\"#000000\" points=\"1194.5738,-538.71 1202.8127,-532.0489 1192.2181,-532.1183 1194.5738,-538.71\"/>\n</g>\n<!-- 17 -->\n<g id=\"node21\" class=\"node\">\n<title>17</title>\n<path fill=\"#e58139\" stroke=\"#000000\" d=\"M917,-417.5C917,-417.5 834,-417.5 834,-417.5 828,-417.5 822,-411.5 822,-405.5 822,-405.5 822,-361.5 822,-361.5 822,-355.5 828,-349.5 834,-349.5 834,-349.5 917,-349.5 917,-349.5 923,-349.5 929,-355.5 929,-361.5 929,-361.5 929,-405.5 929,-405.5 929,-411.5 923,-417.5 917,-417.5\"/>\n<text text-anchor=\"middle\" x=\"875.5\" y=\"-402.3\" font-family=\"Helvetica,sans-Serif\" font-size=\"14.00\" fill=\"#000000\">entropy = 0.0</text>\n<text text-anchor=\"middle\" x=\"875.5\" y=\"-387.3\" font-family=\"Helvetica,sans-Serif\" font-size=\"14.00\" fill=\"#000000\">samples = 14</text>\n<text text-anchor=\"middle\" x=\"875.5\" y=\"-372.3\" font-family=\"Helvetica,sans-Serif\" font-size=\"14.00\" fill=\"#000000\">value = [14, 0]</text>\n<text text-anchor=\"middle\" x=\"875.5\" y=\"-357.3\" font-family=\"Helvetica,sans-Serif\" font-size=\"14.00\" fill=\"#000000\">class = 0</text>\n</g>\n<!-- 5&#45;&gt;17 -->\n<g id=\"edge20\" class=\"edge\">\n<title>5&#45;&gt;17</title>\n<path fill=\"none\" stroke=\"#000000\" d=\"M925.5691,-460.8796C918.3117,-449.6636 910.4497,-437.5131 903.1535,-426.2372\"/>\n<polygon fill=\"#000000\" stroke=\"#000000\" points=\"906.0748,-424.3093 897.7038,-417.8149 900.1978,-428.112 906.0748,-424.3093\"/>\n</g>\n<!-- 18 -->\n<g id=\"node22\" class=\"node\">\n<title>18</title>\n<path fill=\"#f2c29f\" stroke=\"#000000\" d=\"M1100,-425C1100,-425 959,-425 959,-425 953,-425 947,-419 947,-413 947,-413 947,-354 947,-354 947,-348 953,-342 959,-342 959,-342 1100,-342 1100,-342 1106,-342 1112,-348 1112,-354 1112,-354 1112,-413 1112,-413 1112,-419 1106,-425 1100,-425\"/>\n<text text-anchor=\"middle\" x=\"1029.5\" y=\"-409.8\" font-family=\"Helvetica,sans-Serif\" font-size=\"14.00\" fill=\"#000000\">BloodPressure &lt;= 73.0</text>\n<text text-anchor=\"middle\" x=\"1029.5\" y=\"-394.8\" font-family=\"Helvetica,sans-Serif\" font-size=\"14.00\" fill=\"#000000\">entropy = 0.926</text>\n<text text-anchor=\"middle\" x=\"1029.5\" y=\"-379.8\" font-family=\"Helvetica,sans-Serif\" font-size=\"14.00\" fill=\"#000000\">samples = 44</text>\n<text text-anchor=\"middle\" x=\"1029.5\" y=\"-364.8\" font-family=\"Helvetica,sans-Serif\" font-size=\"14.00\" fill=\"#000000\">value = [29, 15]</text>\n<text text-anchor=\"middle\" x=\"1029.5\" y=\"-349.8\" font-family=\"Helvetica,sans-Serif\" font-size=\"14.00\" fill=\"#000000\">class = 0</text>\n</g>\n<!-- 5&#45;&gt;18 -->\n<g id=\"edge21\" class=\"edge\">\n<title>5&#45;&gt;18</title>\n<path fill=\"none\" stroke=\"#000000\" d=\"M979.4309,-460.8796C985.0837,-452.1434 991.1033,-442.8404 996.9366,-433.8253\"/>\n<polygon fill=\"#000000\" stroke=\"#000000\" points=\"999.9601,-435.5952 1002.4542,-425.2981 994.0831,-431.7924 999.9601,-435.5952\"/>\n</g>\n<!-- 21 -->\n<g id=\"node23\" class=\"node\">\n<title>21</title>\n<path fill=\"#c9e4f8\" stroke=\"#000000\" d=\"M1046.5,-298.5C1046.5,-298.5 952.5,-298.5 952.5,-298.5 946.5,-298.5 940.5,-292.5 940.5,-286.5 940.5,-286.5 940.5,-242.5 940.5,-242.5 940.5,-236.5 946.5,-230.5 952.5,-230.5 952.5,-230.5 1046.5,-230.5 1046.5,-230.5 1052.5,-230.5 1058.5,-236.5 1058.5,-242.5 1058.5,-242.5 1058.5,-286.5 1058.5,-286.5 1058.5,-292.5 1052.5,-298.5 1046.5,-298.5\"/>\n<text text-anchor=\"middle\" x=\"999.5\" y=\"-283.3\" font-family=\"Helvetica,sans-Serif\" font-size=\"14.00\" fill=\"#000000\">entropy = 0.982</text>\n<text text-anchor=\"middle\" x=\"999.5\" y=\"-268.3\" font-family=\"Helvetica,sans-Serif\" font-size=\"14.00\" fill=\"#000000\">samples = 19</text>\n<text text-anchor=\"middle\" x=\"999.5\" y=\"-253.3\" font-family=\"Helvetica,sans-Serif\" font-size=\"14.00\" fill=\"#000000\">value = [8, 11]</text>\n<text text-anchor=\"middle\" x=\"999.5\" y=\"-238.3\" font-family=\"Helvetica,sans-Serif\" font-size=\"14.00\" fill=\"#000000\">class = 1</text>\n</g>\n<!-- 18&#45;&gt;21 -->\n<g id=\"edge22\" class=\"edge\">\n<title>18&#45;&gt;21</title>\n<path fill=\"none\" stroke=\"#000000\" d=\"M1019.0075,-341.8796C1016.2908,-331.1034 1013.3566,-319.4647 1010.6095,-308.5677\"/>\n<polygon fill=\"#000000\" stroke=\"#000000\" points=\"1013.9892,-307.6559 1008.1508,-298.8149 1007.2016,-309.3672 1013.9892,-307.6559\"/>\n</g>\n<!-- 22 -->\n<g id=\"node24\" class=\"node\">\n<title>22</title>\n<path fill=\"#ea995f\" stroke=\"#000000\" d=\"M1196,-306C1196,-306 1089,-306 1089,-306 1083,-306 1077,-300 1077,-294 1077,-294 1077,-235 1077,-235 1077,-229 1083,-223 1089,-223 1089,-223 1196,-223 1196,-223 1202,-223 1208,-229 1208,-235 1208,-235 1208,-294 1208,-294 1208,-300 1202,-306 1196,-306\"/>\n<text text-anchor=\"middle\" x=\"1142.5\" y=\"-290.8\" font-family=\"Helvetica,sans-Serif\" font-size=\"14.00\" fill=\"#000000\">Glucose &lt;= 148.5</text>\n<text text-anchor=\"middle\" x=\"1142.5\" y=\"-275.8\" font-family=\"Helvetica,sans-Serif\" font-size=\"14.00\" fill=\"#000000\">entropy = 0.634</text>\n<text text-anchor=\"middle\" x=\"1142.5\" y=\"-260.8\" font-family=\"Helvetica,sans-Serif\" font-size=\"14.00\" fill=\"#000000\">samples = 25</text>\n<text text-anchor=\"middle\" x=\"1142.5\" y=\"-245.8\" font-family=\"Helvetica,sans-Serif\" font-size=\"14.00\" fill=\"#000000\">value = [21, 4]</text>\n<text text-anchor=\"middle\" x=\"1142.5\" y=\"-230.8\" font-family=\"Helvetica,sans-Serif\" font-size=\"14.00\" fill=\"#000000\">class = 0</text>\n</g>\n<!-- 18&#45;&gt;22 -->\n<g id=\"edge23\" class=\"edge\">\n<title>18&#45;&gt;22</title>\n<path fill=\"none\" stroke=\"#000000\" d=\"M1069.0219,-341.8796C1077.6597,-332.7832 1086.881,-323.0722 1095.7697,-313.7116\"/>\n<polygon fill=\"#000000\" stroke=\"#000000\" points=\"1098.4615,-315.9597 1102.8094,-306.2981 1093.3854,-311.1395 1098.4615,-315.9597\"/>\n</g>\n<!-- 25 -->\n<g id=\"node25\" class=\"node\">\n<title>25</title>\n<path fill=\"#e58139\" stroke=\"#000000\" d=\"M1053,-179.5C1053,-179.5 970,-179.5 970,-179.5 964,-179.5 958,-173.5 958,-167.5 958,-167.5 958,-123.5 958,-123.5 958,-117.5 964,-111.5 970,-111.5 970,-111.5 1053,-111.5 1053,-111.5 1059,-111.5 1065,-117.5 1065,-123.5 1065,-123.5 1065,-167.5 1065,-167.5 1065,-173.5 1059,-179.5 1053,-179.5\"/>\n<text text-anchor=\"middle\" x=\"1011.5\" y=\"-164.3\" font-family=\"Helvetica,sans-Serif\" font-size=\"14.00\" fill=\"#000000\">entropy = 0.0</text>\n<text text-anchor=\"middle\" x=\"1011.5\" y=\"-149.3\" font-family=\"Helvetica,sans-Serif\" font-size=\"14.00\" fill=\"#000000\">samples = 15</text>\n<text text-anchor=\"middle\" x=\"1011.5\" y=\"-134.3\" font-family=\"Helvetica,sans-Serif\" font-size=\"14.00\" fill=\"#000000\">value = [15, 0]</text>\n<text text-anchor=\"middle\" x=\"1011.5\" y=\"-119.3\" font-family=\"Helvetica,sans-Serif\" font-size=\"14.00\" fill=\"#000000\">class = 0</text>\n</g>\n<!-- 22&#45;&gt;25 -->\n<g id=\"edge24\" class=\"edge\">\n<title>22&#45;&gt;25</title>\n<path fill=\"none\" stroke=\"#000000\" d=\"M1096.6826,-222.8796C1083.7303,-211.1138 1069.646,-198.3197 1056.7286,-186.5855\"/>\n<polygon fill=\"#000000\" stroke=\"#000000\" points=\"1059.0306,-183.9482 1049.2753,-179.8149 1054.3239,-189.1296 1059.0306,-183.9482\"/>\n</g>\n<!-- 26 -->\n<g id=\"node26\" class=\"node\">\n<title>26</title>\n<path fill=\"#f6d5bd\" stroke=\"#000000\" d=\"M1189.5,-179.5C1189.5,-179.5 1095.5,-179.5 1095.5,-179.5 1089.5,-179.5 1083.5,-173.5 1083.5,-167.5 1083.5,-167.5 1083.5,-123.5 1083.5,-123.5 1083.5,-117.5 1089.5,-111.5 1095.5,-111.5 1095.5,-111.5 1189.5,-111.5 1189.5,-111.5 1195.5,-111.5 1201.5,-117.5 1201.5,-123.5 1201.5,-123.5 1201.5,-167.5 1201.5,-167.5 1201.5,-173.5 1195.5,-179.5 1189.5,-179.5\"/>\n<text text-anchor=\"middle\" x=\"1142.5\" y=\"-164.3\" font-family=\"Helvetica,sans-Serif\" font-size=\"14.00\" fill=\"#000000\">entropy = 0.971</text>\n<text text-anchor=\"middle\" x=\"1142.5\" y=\"-149.3\" font-family=\"Helvetica,sans-Serif\" font-size=\"14.00\" fill=\"#000000\">samples = 10</text>\n<text text-anchor=\"middle\" x=\"1142.5\" y=\"-134.3\" font-family=\"Helvetica,sans-Serif\" font-size=\"14.00\" fill=\"#000000\">value = [6, 4]</text>\n<text text-anchor=\"middle\" x=\"1142.5\" y=\"-119.3\" font-family=\"Helvetica,sans-Serif\" font-size=\"14.00\" fill=\"#000000\">class = 0</text>\n</g>\n<!-- 22&#45;&gt;26 -->\n<g id=\"edge25\" class=\"edge\">\n<title>22&#45;&gt;26</title>\n<path fill=\"none\" stroke=\"#000000\" d=\"M1142.5,-222.8796C1142.5,-212.2134 1142.5,-200.7021 1142.5,-189.9015\"/>\n<polygon fill=\"#000000\" stroke=\"#000000\" points=\"1146.0001,-189.8149 1142.5,-179.8149 1139.0001,-189.815 1146.0001,-189.8149\"/>\n</g>\n<!-- 11 -->\n<g id=\"node28\" class=\"node\">\n<title>11</title>\n<path fill=\"#399de5\" stroke=\"#000000\" d=\"M1327,-417.5C1327,-417.5 1244,-417.5 1244,-417.5 1238,-417.5 1232,-411.5 1232,-405.5 1232,-405.5 1232,-361.5 1232,-361.5 1232,-355.5 1238,-349.5 1244,-349.5 1244,-349.5 1327,-349.5 1327,-349.5 1333,-349.5 1339,-355.5 1339,-361.5 1339,-361.5 1339,-405.5 1339,-405.5 1339,-411.5 1333,-417.5 1327,-417.5\"/>\n<text text-anchor=\"middle\" x=\"1285.5\" y=\"-402.3\" font-family=\"Helvetica,sans-Serif\" font-size=\"14.00\" fill=\"#000000\">entropy = 0.0</text>\n<text text-anchor=\"middle\" x=\"1285.5\" y=\"-387.3\" font-family=\"Helvetica,sans-Serif\" font-size=\"14.00\" fill=\"#000000\">samples = 19</text>\n<text text-anchor=\"middle\" x=\"1285.5\" y=\"-372.3\" font-family=\"Helvetica,sans-Serif\" font-size=\"14.00\" fill=\"#000000\">value = [0, 19]</text>\n<text text-anchor=\"middle\" x=\"1285.5\" y=\"-357.3\" font-family=\"Helvetica,sans-Serif\" font-size=\"14.00\" fill=\"#000000\">class = 1</text>\n</g>\n<!-- 6&#45;&gt;11 -->\n<g id=\"edge27\" class=\"edge\">\n<title>6&#45;&gt;11</title>\n<path fill=\"none\" stroke=\"#000000\" d=\"M1285.5,-460.8796C1285.5,-450.2134 1285.5,-438.7021 1285.5,-427.9015\"/>\n<polygon fill=\"#000000\" stroke=\"#000000\" points=\"1289.0001,-427.8149 1285.5,-417.8149 1282.0001,-427.815 1289.0001,-427.8149\"/>\n</g>\n<!-- 12 -->\n<g id=\"node29\" class=\"node\">\n<title>12</title>\n<path fill=\"#92c9f1\" stroke=\"#000000\" d=\"M1512,-425C1512,-425 1405,-425 1405,-425 1399,-425 1393,-419 1393,-413 1393,-413 1393,-354 1393,-354 1393,-348 1399,-342 1405,-342 1405,-342 1512,-342 1512,-342 1518,-342 1524,-348 1524,-354 1524,-354 1524,-413 1524,-413 1524,-419 1518,-425 1512,-425\"/>\n<text text-anchor=\"middle\" x=\"1458.5\" y=\"-409.8\" font-family=\"Helvetica,sans-Serif\" font-size=\"14.00\" fill=\"#000000\">Glucose &lt;= 155.5</text>\n<text text-anchor=\"middle\" x=\"1458.5\" y=\"-394.8\" font-family=\"Helvetica,sans-Serif\" font-size=\"14.00\" fill=\"#000000\">entropy = 0.894</text>\n<text text-anchor=\"middle\" x=\"1458.5\" y=\"-379.8\" font-family=\"Helvetica,sans-Serif\" font-size=\"14.00\" fill=\"#000000\">samples = 132</text>\n<text text-anchor=\"middle\" x=\"1458.5\" y=\"-364.8\" font-family=\"Helvetica,sans-Serif\" font-size=\"14.00\" fill=\"#000000\">value = [41, 91]</text>\n<text text-anchor=\"middle\" x=\"1458.5\" y=\"-349.8\" font-family=\"Helvetica,sans-Serif\" font-size=\"14.00\" fill=\"#000000\">class = 1</text>\n</g>\n<!-- 6&#45;&gt;12 -->\n<g id=\"edge28\" class=\"edge\">\n<title>6&#45;&gt;12</title>\n<path fill=\"none\" stroke=\"#000000\" d=\"M1346.007,-460.8796C1360.0982,-451.1868 1375.2039,-440.7961 1389.6269,-430.8752\"/>\n<polygon fill=\"#000000\" stroke=\"#000000\" points=\"1391.7717,-433.6479 1398.0272,-425.0969 1387.8045,-427.8806 1391.7717,-433.6479\"/>\n</g>\n<!-- 13 -->\n<g id=\"node30\" class=\"node\">\n<title>13</title>\n<path fill=\"#e0f0fb\" stroke=\"#000000\" d=\"M1505.5,-306C1505.5,-306 1411.5,-306 1411.5,-306 1405.5,-306 1399.5,-300 1399.5,-294 1399.5,-294 1399.5,-235 1399.5,-235 1399.5,-229 1405.5,-223 1411.5,-223 1411.5,-223 1505.5,-223 1505.5,-223 1511.5,-223 1517.5,-229 1517.5,-235 1517.5,-235 1517.5,-294 1517.5,-294 1517.5,-300 1511.5,-306 1505.5,-306\"/>\n<text text-anchor=\"middle\" x=\"1458.5\" y=\"-290.8\" font-family=\"Helvetica,sans-Serif\" font-size=\"14.00\" fill=\"#000000\">Age &lt;= 30.5</text>\n<text text-anchor=\"middle\" x=\"1458.5\" y=\"-275.8\" font-family=\"Helvetica,sans-Serif\" font-size=\"14.00\" fill=\"#000000\">entropy = 0.995</text>\n<text text-anchor=\"middle\" x=\"1458.5\" y=\"-260.8\" font-family=\"Helvetica,sans-Serif\" font-size=\"14.00\" fill=\"#000000\">samples = 70</text>\n<text text-anchor=\"middle\" x=\"1458.5\" y=\"-245.8\" font-family=\"Helvetica,sans-Serif\" font-size=\"14.00\" fill=\"#000000\">value = [32, 38]</text>\n<text text-anchor=\"middle\" x=\"1458.5\" y=\"-230.8\" font-family=\"Helvetica,sans-Serif\" font-size=\"14.00\" fill=\"#000000\">class = 1</text>\n</g>\n<!-- 12&#45;&gt;13 -->\n<g id=\"edge29\" class=\"edge\">\n<title>12&#45;&gt;13</title>\n<path fill=\"none\" stroke=\"#000000\" d=\"M1458.5,-341.8796C1458.5,-333.6838 1458.5,-324.9891 1458.5,-316.5013\"/>\n<polygon fill=\"#000000\" stroke=\"#000000\" points=\"1462.0001,-316.298 1458.5,-306.2981 1455.0001,-316.2981 1462.0001,-316.298\"/>\n</g>\n<!-- 14 -->\n<g id=\"node37\" class=\"node\">\n<title>14</title>\n<path fill=\"#5baee9\" stroke=\"#000000\" d=\"M1745,-306C1745,-306 1638,-306 1638,-306 1632,-306 1626,-300 1626,-294 1626,-294 1626,-235 1626,-235 1626,-229 1632,-223 1638,-223 1638,-223 1745,-223 1745,-223 1751,-223 1757,-229 1757,-235 1757,-235 1757,-294 1757,-294 1757,-300 1751,-306 1745,-306\"/>\n<text text-anchor=\"middle\" x=\"1691.5\" y=\"-290.8\" font-family=\"Helvetica,sans-Serif\" font-size=\"14.00\" fill=\"#000000\">Glucose &lt;= 163.5</text>\n<text text-anchor=\"middle\" x=\"1691.5\" y=\"-275.8\" font-family=\"Helvetica,sans-Serif\" font-size=\"14.00\" fill=\"#000000\">entropy = 0.598</text>\n<text text-anchor=\"middle\" x=\"1691.5\" y=\"-260.8\" font-family=\"Helvetica,sans-Serif\" font-size=\"14.00\" fill=\"#000000\">samples = 62</text>\n<text text-anchor=\"middle\" x=\"1691.5\" y=\"-245.8\" font-family=\"Helvetica,sans-Serif\" font-size=\"14.00\" fill=\"#000000\">value = [9, 53]</text>\n<text text-anchor=\"middle\" x=\"1691.5\" y=\"-230.8\" font-family=\"Helvetica,sans-Serif\" font-size=\"14.00\" fill=\"#000000\">class = 1</text>\n</g>\n<!-- 12&#45;&gt;14 -->\n<g id=\"edge36\" class=\"edge\">\n<title>12&#45;&gt;14</title>\n<path fill=\"none\" stroke=\"#000000\" d=\"M1524.0235,-350.0352C1552.8113,-335.3324 1586.7719,-317.9877 1616.5605,-302.7738\"/>\n<polygon fill=\"#000000\" stroke=\"#000000\" points=\"1618.3472,-305.7914 1625.661,-298.1259 1615.1633,-299.5574 1618.3472,-305.7914\"/>\n</g>\n<!-- 19 -->\n<g id=\"node31\" class=\"node\">\n<title>19</title>\n<path fill=\"#f2c09c\" stroke=\"#000000\" d=\"M1339,-187C1339,-187 1232,-187 1232,-187 1226,-187 1220,-181 1220,-175 1220,-175 1220,-116 1220,-116 1220,-110 1226,-104 1232,-104 1232,-104 1339,-104 1339,-104 1345,-104 1351,-110 1351,-116 1351,-116 1351,-175 1351,-175 1351,-181 1345,-187 1339,-187\"/>\n<text text-anchor=\"middle\" x=\"1285.5\" y=\"-171.8\" font-family=\"Helvetica,sans-Serif\" font-size=\"14.00\" fill=\"#000000\">Glucose &lt;= 142.5</text>\n<text text-anchor=\"middle\" x=\"1285.5\" y=\"-156.8\" font-family=\"Helvetica,sans-Serif\" font-size=\"14.00\" fill=\"#000000\">entropy = 0.918</text>\n<text text-anchor=\"middle\" x=\"1285.5\" y=\"-141.8\" font-family=\"Helvetica,sans-Serif\" font-size=\"14.00\" fill=\"#000000\">samples = 30</text>\n<text text-anchor=\"middle\" x=\"1285.5\" y=\"-126.8\" font-family=\"Helvetica,sans-Serif\" font-size=\"14.00\" fill=\"#000000\">value = [20, 10]</text>\n<text text-anchor=\"middle\" x=\"1285.5\" y=\"-111.8\" font-family=\"Helvetica,sans-Serif\" font-size=\"14.00\" fill=\"#000000\">class = 0</text>\n</g>\n<!-- 13&#45;&gt;19 -->\n<g id=\"edge30\" class=\"edge\">\n<title>13&#45;&gt;19</title>\n<path fill=\"none\" stroke=\"#000000\" d=\"M1399.4471,-223.8798C1385.0458,-213.9737 1369.5123,-203.2888 1354.6862,-193.0905\"/>\n<polygon fill=\"#000000\" stroke=\"#000000\" points=\"1356.2752,-189.9354 1346.0526,-187.1518 1352.308,-195.7028 1356.2752,-189.9354\"/>\n</g>\n<!-- 20 -->\n<g id=\"node34\" class=\"node\">\n<title>20</title>\n<path fill=\"#8ec7f0\" stroke=\"#000000\" d=\"M1607.5,-187C1607.5,-187 1381.5,-187 1381.5,-187 1375.5,-187 1369.5,-181 1369.5,-175 1369.5,-175 1369.5,-116 1369.5,-116 1369.5,-110 1375.5,-104 1381.5,-104 1381.5,-104 1607.5,-104 1607.5,-104 1613.5,-104 1619.5,-110 1619.5,-116 1619.5,-116 1619.5,-175 1619.5,-175 1619.5,-181 1613.5,-187 1607.5,-187\"/>\n<text text-anchor=\"middle\" x=\"1494.5\" y=\"-171.8\" font-family=\"Helvetica,sans-Serif\" font-size=\"14.00\" fill=\"#000000\">DiabetesPedigreeFunction &lt;= 0.436</text>\n<text text-anchor=\"middle\" x=\"1494.5\" y=\"-156.8\" font-family=\"Helvetica,sans-Serif\" font-size=\"14.00\" fill=\"#000000\">entropy = 0.881</text>\n<text text-anchor=\"middle\" x=\"1494.5\" y=\"-141.8\" font-family=\"Helvetica,sans-Serif\" font-size=\"14.00\" fill=\"#000000\">samples = 40</text>\n<text text-anchor=\"middle\" x=\"1494.5\" y=\"-126.8\" font-family=\"Helvetica,sans-Serif\" font-size=\"14.00\" fill=\"#000000\">value = [12, 28]</text>\n<text text-anchor=\"middle\" x=\"1494.5\" y=\"-111.8\" font-family=\"Helvetica,sans-Serif\" font-size=\"14.00\" fill=\"#000000\">class = 1</text>\n</g>\n<!-- 13&#45;&gt;20 -->\n<g id=\"edge33\" class=\"edge\">\n<title>13&#45;&gt;20</title>\n<path fill=\"none\" stroke=\"#000000\" d=\"M1471.0911,-222.8796C1473.6249,-214.5037 1476.3165,-205.6067 1478.9377,-196.942\"/>\n<polygon fill=\"#000000\" stroke=\"#000000\" points=\"1482.3096,-197.8832 1481.8552,-187.2981 1475.6095,-195.8562 1482.3096,-197.8832\"/>\n</g>\n<!-- 27 -->\n<g id=\"node32\" class=\"node\">\n<title>27</title>\n<path fill=\"#fcf2eb\" stroke=\"#000000\" d=\"M1215.5,-68C1215.5,-68 1121.5,-68 1121.5,-68 1115.5,-68 1109.5,-62 1109.5,-56 1109.5,-56 1109.5,-12 1109.5,-12 1109.5,-6 1115.5,0 1121.5,0 1121.5,0 1215.5,0 1215.5,0 1221.5,0 1227.5,-6 1227.5,-12 1227.5,-12 1227.5,-56 1227.5,-56 1227.5,-62 1221.5,-68 1215.5,-68\"/>\n<text text-anchor=\"middle\" x=\"1168.5\" y=\"-52.8\" font-family=\"Helvetica,sans-Serif\" font-size=\"14.00\" fill=\"#000000\">entropy = 0.998</text>\n<text text-anchor=\"middle\" x=\"1168.5\" y=\"-37.8\" font-family=\"Helvetica,sans-Serif\" font-size=\"14.00\" fill=\"#000000\">samples = 19</text>\n<text text-anchor=\"middle\" x=\"1168.5\" y=\"-22.8\" font-family=\"Helvetica,sans-Serif\" font-size=\"14.00\" fill=\"#000000\">value = [10, 9]</text>\n<text text-anchor=\"middle\" x=\"1168.5\" y=\"-7.8\" font-family=\"Helvetica,sans-Serif\" font-size=\"14.00\" fill=\"#000000\">class = 0</text>\n</g>\n<!-- 19&#45;&gt;27 -->\n<g id=\"edge31\" class=\"edge\">\n<title>19&#45;&gt;27</title>\n<path fill=\"none\" stroke=\"#000000\" d=\"M1241.9335,-103.9815C1232.0966,-94.607 1221.656,-84.6572 1211.8289,-75.2921\"/>\n<polygon fill=\"#000000\" stroke=\"#000000\" points=\"1214.1076,-72.6289 1204.4538,-68.2637 1209.2784,-77.6963 1214.1076,-72.6289\"/>\n</g>\n<!-- 28 -->\n<g id=\"node33\" class=\"node\">\n<title>28</title>\n<path fill=\"#e88e4d\" stroke=\"#000000\" d=\"M1351.5,-68C1351.5,-68 1257.5,-68 1257.5,-68 1251.5,-68 1245.5,-62 1245.5,-56 1245.5,-56 1245.5,-12 1245.5,-12 1245.5,-6 1251.5,0 1257.5,0 1257.5,0 1351.5,0 1351.5,0 1357.5,0 1363.5,-6 1363.5,-12 1363.5,-12 1363.5,-56 1363.5,-56 1363.5,-62 1357.5,-68 1351.5,-68\"/>\n<text text-anchor=\"middle\" x=\"1304.5\" y=\"-52.8\" font-family=\"Helvetica,sans-Serif\" font-size=\"14.00\" fill=\"#000000\">entropy = 0.439</text>\n<text text-anchor=\"middle\" x=\"1304.5\" y=\"-37.8\" font-family=\"Helvetica,sans-Serif\" font-size=\"14.00\" fill=\"#000000\">samples = 11</text>\n<text text-anchor=\"middle\" x=\"1304.5\" y=\"-22.8\" font-family=\"Helvetica,sans-Serif\" font-size=\"14.00\" fill=\"#000000\">value = [10, 1]</text>\n<text text-anchor=\"middle\" x=\"1304.5\" y=\"-7.8\" font-family=\"Helvetica,sans-Serif\" font-size=\"14.00\" fill=\"#000000\">class = 0</text>\n</g>\n<!-- 19&#45;&gt;28 -->\n<g id=\"edge32\" class=\"edge\">\n<title>19&#45;&gt;28</title>\n<path fill=\"none\" stroke=\"#000000\" d=\"M1292.5749,-103.9815C1294.0001,-95.618 1295.5033,-86.7965 1296.9442,-78.3409\"/>\n<polygon fill=\"#000000\" stroke=\"#000000\" points=\"1300.4317,-78.7095 1298.6613,-68.2637 1293.5312,-77.5336 1300.4317,-78.7095\"/>\n</g>\n<!-- 37 -->\n<g id=\"node35\" class=\"node\">\n<title>37</title>\n<path fill=\"#e9f4fc\" stroke=\"#000000\" d=\"M1523.5,-68C1523.5,-68 1429.5,-68 1429.5,-68 1423.5,-68 1417.5,-62 1417.5,-56 1417.5,-56 1417.5,-12 1417.5,-12 1417.5,-6 1423.5,0 1429.5,0 1429.5,0 1523.5,0 1523.5,0 1529.5,0 1535.5,-6 1535.5,-12 1535.5,-12 1535.5,-56 1535.5,-56 1535.5,-62 1529.5,-68 1523.5,-68\"/>\n<text text-anchor=\"middle\" x=\"1476.5\" y=\"-52.8\" font-family=\"Helvetica,sans-Serif\" font-size=\"14.00\" fill=\"#000000\">entropy = 0.998</text>\n<text text-anchor=\"middle\" x=\"1476.5\" y=\"-37.8\" font-family=\"Helvetica,sans-Serif\" font-size=\"14.00\" fill=\"#000000\">samples = 17</text>\n<text text-anchor=\"middle\" x=\"1476.5\" y=\"-22.8\" font-family=\"Helvetica,sans-Serif\" font-size=\"14.00\" fill=\"#000000\">value = [8, 9]</text>\n<text text-anchor=\"middle\" x=\"1476.5\" y=\"-7.8\" font-family=\"Helvetica,sans-Serif\" font-size=\"14.00\" fill=\"#000000\">class = 1</text>\n</g>\n<!-- 20&#45;&gt;37 -->\n<g id=\"edge34\" class=\"edge\">\n<title>20&#45;&gt;37</title>\n<path fill=\"none\" stroke=\"#000000\" d=\"M1487.7975,-103.9815C1486.4473,-95.618 1485.0232,-86.7965 1483.6582,-78.3409\"/>\n<polygon fill=\"#000000\" stroke=\"#000000\" points=\"1487.0804,-77.578 1482.0314,-68.2637 1480.1699,-78.6937 1487.0804,-77.578\"/>\n</g>\n<!-- 38 -->\n<g id=\"node36\" class=\"node\">\n<title>38</title>\n<path fill=\"#63b2ea\" stroke=\"#000000\" d=\"M1659.5,-68C1659.5,-68 1565.5,-68 1565.5,-68 1559.5,-68 1553.5,-62 1553.5,-56 1553.5,-56 1553.5,-12 1553.5,-12 1553.5,-6 1559.5,0 1565.5,0 1565.5,0 1659.5,0 1659.5,0 1665.5,0 1671.5,-6 1671.5,-12 1671.5,-12 1671.5,-56 1671.5,-56 1671.5,-62 1665.5,-68 1659.5,-68\"/>\n<text text-anchor=\"middle\" x=\"1612.5\" y=\"-52.8\" font-family=\"Helvetica,sans-Serif\" font-size=\"14.00\" fill=\"#000000\">entropy = 0.667</text>\n<text text-anchor=\"middle\" x=\"1612.5\" y=\"-37.8\" font-family=\"Helvetica,sans-Serif\" font-size=\"14.00\" fill=\"#000000\">samples = 23</text>\n<text text-anchor=\"middle\" x=\"1612.5\" y=\"-22.8\" font-family=\"Helvetica,sans-Serif\" font-size=\"14.00\" fill=\"#000000\">value = [4, 19]</text>\n<text text-anchor=\"middle\" x=\"1612.5\" y=\"-7.8\" font-family=\"Helvetica,sans-Serif\" font-size=\"14.00\" fill=\"#000000\">class = 1</text>\n</g>\n<!-- 20&#45;&gt;38 -->\n<g id=\"edge35\" class=\"edge\">\n<title>20&#45;&gt;38</title>\n<path fill=\"none\" stroke=\"#000000\" d=\"M1538.4388,-103.9815C1548.3598,-94.607 1558.8897,-84.6572 1568.8008,-75.2921\"/>\n<polygon fill=\"#000000\" stroke=\"#000000\" points=\"1571.3743,-77.6757 1576.2389,-68.2637 1566.5666,-72.5878 1571.3743,-77.6757\"/>\n</g>\n<!-- 29 -->\n<g id=\"node38\" class=\"node\">\n<title>29</title>\n<path fill=\"#399de5\" stroke=\"#000000\" d=\"M1733,-179.5C1733,-179.5 1650,-179.5 1650,-179.5 1644,-179.5 1638,-173.5 1638,-167.5 1638,-167.5 1638,-123.5 1638,-123.5 1638,-117.5 1644,-111.5 1650,-111.5 1650,-111.5 1733,-111.5 1733,-111.5 1739,-111.5 1745,-117.5 1745,-123.5 1745,-123.5 1745,-167.5 1745,-167.5 1745,-173.5 1739,-179.5 1733,-179.5\"/>\n<text text-anchor=\"middle\" x=\"1691.5\" y=\"-164.3\" font-family=\"Helvetica,sans-Serif\" font-size=\"14.00\" fill=\"#000000\">entropy = 0.0</text>\n<text text-anchor=\"middle\" x=\"1691.5\" y=\"-149.3\" font-family=\"Helvetica,sans-Serif\" font-size=\"14.00\" fill=\"#000000\">samples = 14</text>\n<text text-anchor=\"middle\" x=\"1691.5\" y=\"-134.3\" font-family=\"Helvetica,sans-Serif\" font-size=\"14.00\" fill=\"#000000\">value = [0, 14]</text>\n<text text-anchor=\"middle\" x=\"1691.5\" y=\"-119.3\" font-family=\"Helvetica,sans-Serif\" font-size=\"14.00\" fill=\"#000000\">class = 1</text>\n</g>\n<!-- 14&#45;&gt;29 -->\n<g id=\"edge37\" class=\"edge\">\n<title>14&#45;&gt;29</title>\n<path fill=\"none\" stroke=\"#000000\" d=\"M1691.5,-222.8796C1691.5,-212.2134 1691.5,-200.7021 1691.5,-189.9015\"/>\n<polygon fill=\"#000000\" stroke=\"#000000\" points=\"1695.0001,-189.8149 1691.5,-179.8149 1688.0001,-189.815 1695.0001,-189.8149\"/>\n</g>\n<!-- 30 -->\n<g id=\"node39\" class=\"node\">\n<title>30</title>\n<path fill=\"#67b4eb\" stroke=\"#000000\" d=\"M1869.5,-179.5C1869.5,-179.5 1775.5,-179.5 1775.5,-179.5 1769.5,-179.5 1763.5,-173.5 1763.5,-167.5 1763.5,-167.5 1763.5,-123.5 1763.5,-123.5 1763.5,-117.5 1769.5,-111.5 1775.5,-111.5 1775.5,-111.5 1869.5,-111.5 1869.5,-111.5 1875.5,-111.5 1881.5,-117.5 1881.5,-123.5 1881.5,-123.5 1881.5,-167.5 1881.5,-167.5 1881.5,-173.5 1875.5,-179.5 1869.5,-179.5\"/>\n<text text-anchor=\"middle\" x=\"1822.5\" y=\"-164.3\" font-family=\"Helvetica,sans-Serif\" font-size=\"14.00\" fill=\"#000000\">entropy = 0.696</text>\n<text text-anchor=\"middle\" x=\"1822.5\" y=\"-149.3\" font-family=\"Helvetica,sans-Serif\" font-size=\"14.00\" fill=\"#000000\">samples = 48</text>\n<text text-anchor=\"middle\" x=\"1822.5\" y=\"-134.3\" font-family=\"Helvetica,sans-Serif\" font-size=\"14.00\" fill=\"#000000\">value = [9, 39]</text>\n<text text-anchor=\"middle\" x=\"1822.5\" y=\"-119.3\" font-family=\"Helvetica,sans-Serif\" font-size=\"14.00\" fill=\"#000000\">class = 1</text>\n</g>\n<!-- 14&#45;&gt;30 -->\n<g id=\"edge38\" class=\"edge\">\n<title>14&#45;&gt;30</title>\n<path fill=\"none\" stroke=\"#000000\" d=\"M1737.3174,-222.8796C1750.2697,-211.1138 1764.354,-198.3197 1777.2714,-186.5855\"/>\n<polygon fill=\"#000000\" stroke=\"#000000\" points=\"1779.6761,-189.1296 1784.7247,-179.8149 1774.9694,-183.9482 1779.6761,-189.1296\"/>\n</g>\n</g>\n</svg>\n"
          },
          "metadata": {},
          "execution_count": 42
        }
      ]
    },
    {
      "cell_type": "markdown",
      "source": [
        "Выведим глубину дерева"
      ],
      "metadata": {
        "id": "X9SBcB9DRCDF"
      }
    },
    {
      "cell_type": "code",
      "source": [
        "clf.tree_.max_depth"
      ],
      "metadata": {
        "colab": {
          "base_uri": "https://localhost:8080/"
        },
        "id": "uVoWX8SjRFZC",
        "outputId": "46c9ce92-d691-4a81-b4d1-e7d3517740fc"
      },
      "execution_count": 41,
      "outputs": [
        {
          "output_type": "execute_result",
          "data": {
            "text/plain": [
              "6"
            ]
          },
          "metadata": {},
          "execution_count": 41
        }
      ]
    },
    {
      "cell_type": "markdown",
      "source": [
        "Выполним предсказание для объектов из тестовой выборки\n",
        "\n",
        "Доля правильных ответов классификатора."
      ],
      "metadata": {
        "id": "D04fBWlERMVC"
      }
    },
    {
      "cell_type": "code",
      "source": [
        "features = list(test.columns[:8])\n",
        "x = test[features]\n",
        "y_true = test['Outcome']\n",
        "y_pred = clf.predict(x)\n",
        "accuracy_score(y_true, y_pred)"
      ],
      "metadata": {
        "colab": {
          "base_uri": "https://localhost:8080/"
        },
        "id": "Ffu4_s7URRBh",
        "outputId": "033dad73-efd7-49b2-875f-4ea7196fadc9"
      },
      "execution_count": 26,
      "outputs": [
        {
          "output_type": "execute_result",
          "data": {
            "text/plain": [
              "0.7898550724637681"
            ]
          },
          "metadata": {},
          "execution_count": 26
        }
      ]
    },
    {
      "cell_type": "markdown",
      "source": [
        "Среднее значение метрик **F1** (Macro-F1)"
      ],
      "metadata": {
        "id": "ZwvJ26ibRxSQ"
      }
    },
    {
      "cell_type": "code",
      "source": [
        "f1_score(y_true, y_pred, average = 'macro')"
      ],
      "metadata": {
        "colab": {
          "base_uri": "https://localhost:8080/"
        },
        "id": "qSczVwmjR-Oj",
        "outputId": "e979b2f7-9968-47c9-fbe5-0d37b950f847"
      },
      "execution_count": 27,
      "outputs": [
        {
          "output_type": "execute_result",
          "data": {
            "text/plain": [
              "0.7534955343393901"
            ]
          },
          "metadata": {},
          "execution_count": 27
        }
      ]
    },
    {
      "cell_type": "markdown",
      "source": [
        "Выполним предсказание для конкретного пациента (с индексом 708) исходных данных."
      ],
      "metadata": {
        "id": "ikShOFzOSJFx"
      }
    },
    {
      "cell_type": "code",
      "source": [
        "df.loc[729, features]"
      ],
      "metadata": {
        "colab": {
          "base_uri": "https://localhost:8080/"
        },
        "id": "i039tyC3SdTx",
        "outputId": "9a50f9c8-a39a-4b1d-96f6-ef56289f5359"
      },
      "execution_count": 36,
      "outputs": [
        {
          "output_type": "execute_result",
          "data": {
            "text/plain": [
              "Pregnancies                  2.000\n",
              "Glucose                     92.000\n",
              "BloodPressure               52.000\n",
              "SkinThickness                0.000\n",
              "Insulin                      0.000\n",
              "BMI                         30.100\n",
              "DiabetesPedigreeFunction     0.141\n",
              "Age                         22.000\n",
              "Name: 729, dtype: float64"
            ]
          },
          "metadata": {},
          "execution_count": 36
        }
      ]
    },
    {
      "cell_type": "markdown",
      "source": [
        "Назначенный класс:"
      ],
      "metadata": {
        "id": "ZHa9VhovSirp"
      }
    },
    {
      "cell_type": "code",
      "source": [
        "clf.predict([df.loc[729, features].tolist()])[0]"
      ],
      "metadata": {
        "colab": {
          "base_uri": "https://localhost:8080/"
        },
        "id": "xC7R3qqMSlkZ",
        "outputId": "da149873-5984-44be-dcf3-aa6f810c8d96"
      },
      "execution_count": 37,
      "outputs": [
        {
          "output_type": "stream",
          "name": "stderr",
          "text": [
            "/usr/local/lib/python3.7/dist-packages/sklearn/base.py:451: UserWarning: X does not have valid feature names, but DecisionTreeClassifier was fitted with feature names\n",
            "  \"X does not have valid feature names, but\"\n"
          ]
        },
        {
          "output_type": "execute_result",
          "data": {
            "text/plain": [
              "0"
            ]
          },
          "metadata": {},
          "execution_count": 37
        }
      ]
    }
  ]
}